{
 "cells": [
  {
   "cell_type": "code",
   "execution_count": 9,
   "id": "89aa749a",
   "metadata": {},
   "outputs": [],
   "source": [
    "import sys\n",
    "sys.path.append('/home/xiaohl/FHNW/STIX/gsw/sdcpy')\n",
    "from collections import OrderedDict\n",
    "from functools import partial\n",
    "from stixdcpy import instrument as ins\n",
    "import astropy.units as u\n",
    "from stixdcpy import transmission as tr\n",
    "import numpy as np\n",
    "from astropy.table.table import Table\n",
    "from roentgen.absorption.material import Compound, MassAttenuationCoefficient, Material\n"
   ]
  },
  {
   "cell_type": "code",
   "execution_count": 2,
   "id": "e7087592",
   "metadata": {},
   "outputs": [
    {
     "data": {
      "text/plain": [
       "[1, 3, 2, 34]"
      ]
     },
     "execution_count": 2,
     "metadata": {},
     "output_type": "execute_result"
    }
   ],
   "source": [
    "a"
   ]
  },
  {
   "cell_type": "code",
   "execution_count": null,
   "id": "85561c07",
   "metadata": {},
   "outputs": [],
   "source": []
  }
 ],
 "metadata": {
  "kernelspec": {
   "display_name": "Python 3 (ipykernel)",
   "language": "python",
   "name": "python3"
  },
  "language_info": {
   "codemirror_mode": {
    "name": "ipython",
    "version": 3
   },
   "file_extension": ".py",
   "mimetype": "text/x-python",
   "name": "python",
   "nbconvert_exporter": "python",
   "pygments_lexer": "ipython3",
   "version": "3.10.4"
  }
 },
 "nbformat": 4,
 "nbformat_minor": 5
}
