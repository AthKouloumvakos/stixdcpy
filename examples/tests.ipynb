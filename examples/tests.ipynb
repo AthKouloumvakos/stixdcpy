{
 "cells": [
  {
   "cell_type": "code",
   "execution_count": 1,
   "id": "psychological-cigarette",
   "metadata": {},
   "outputs": [],
   "source": [
    "import sys\n",
    "\n",
    "import numpy as np\n",
    "\n",
    "from stixdcpy.quicklook import LightCurves\n",
    "from stixdcpy.energylut import EnergyLUT\n",
    "from stixdcpy.housekeeping import Housekeeping\n",
    "from stixdcpy import ancillarydata as anc\n",
    "from stixdcpy.sciencedata import SciL1, SciSpectrogram\n",
    "\n",
    "from matplotlib import pyplot as plt\n",
    "\n",
    "from pprint import pprint\n",
    "%matplotlib notebook"
   ]
  },
  {
   "cell_type": "code",
   "execution_count": 2,
   "id": "japanese-convenience",
   "metadata": {},
   "outputs": [],
   "source": [
    "#elut=EnergyLUT.request('2021-09-03T00:00:00')"
   ]
  },
  {
   "cell_type": "code",
   "execution_count": 3,
   "id": "saved-closer",
   "metadata": {
    "scrolled": true
   },
   "outputs": [],
   "source": [
    "#Print onboard elut and calibration run information\n",
    "#elut.info()\n",
    "#elut.data\n"
   ]
  },
  {
   "cell_type": "code",
   "execution_count": 4,
   "id": "funky-edward",
   "metadata": {},
   "outputs": [],
   "source": [
    "#emph=anc.Ephemeris.request(start_utc='2021-02-28T00:00:00', end_utc='2021-2-28T01:00:00',steps=2)\n",
    "#emph.peek()"
   ]
  },
  {
   "cell_type": "code",
   "execution_count": 5,
   "id": "separated-surgery",
   "metadata": {},
   "outputs": [],
   "source": [
    "#emph.data\n"
   ]
  },
  {
   "cell_type": "code",
   "execution_count": 6,
   "id": "partial-conference",
   "metadata": {},
   "outputs": [
    {
     "name": "stdout",
     "output_type": "stream",
     "text": [
      "Loading /tmp/solo_L1A_stix-sci-xray-l1-2108010255_20210801T150229-20210801T150529_012533_V01.fits from local archive ...\n"
     ]
    }
   ],
   "source": [
    "request_id=\t2108010255\n",
    "sci_data=SciL1.fetch(request_id=request_id)\n",
    "#Bulk science data request ids (or also called unique ids) can be found on the science data web page at STIX data center"
   ]
  },
  {
   "cell_type": "code",
   "execution_count": null,
   "id": "interpreted-coordinate",
   "metadata": {
    "scrolled": true
   },
   "outputs": [],
   "source": [
    "data=sci_data.data\n",
    "#data is a fits file object\n",
    "data.info()\n",
    "data[0].header['DATE_BEG']\n"
   ]
  },
  {
   "cell_type": "code",
   "execution_count": null,
   "id": "developed-panel",
   "metadata": {},
   "outputs": [],
   "source": [
    "sci_data.peek()\n",
    "#science data quicklook"
   ]
  },
  {
   "cell_type": "code",
   "execution_count": null,
   "id": "clean-electron",
   "metadata": {},
   "outputs": [],
   "source": [
    "data.info()\n"
   ]
  },
  {
   "cell_type": "code",
   "execution_count": null,
   "id": "prescribed-andrews",
   "metadata": {},
   "outputs": [],
   "source": [
    "#fig=plt.figure()\n",
    "l1data=data[2].data\n",
    "#print(l1data['num_energy_groups'])\n",
    "print(l1data['counts'].shape)\n",
    "print(l1data['timedel'].shape)\n",
    "print(l1data['triggers'])\n",
    "trigger_rates=l1data['triggers'][1:,:]/l1data['timedel'][:-1,None]\n",
    "\n",
    "tau=9.6e-6\n",
    "eta=1e-5\n",
    "live_time=1 - tau*trigger_rates\n",
    "photo_in_rates=trigger_rates /(1-tau*trigger_rates)\n",
    "\n",
    "counts=l1data['counts'][1:,:,:,:]/l1data['timedel'][:-1,None, None, None]\n",
    "\n",
    "print('counts shape:', counts.shape)\n",
    "#print(counts.shape)\n",
    "print('triggers shape:', trigger_rates.shape)\n",
    "out=np.zeros_like(counts)\n",
    "\n",
    "\n",
    "\n",
    "\n",
    "\n"
   ]
  },
  {
   "cell_type": "code",
   "execution_count": null,
   "id": "athletic-distribution",
   "metadata": {
    "scrolled": false
   },
   "outputs": [],
   "source": [
    "print(counts.shape)\n",
    "\n",
    "\n",
    "DET_GROUPS = [\n",
    "\t[1, 2],\n",
    "\t[6, 7],\n",
    "\t[5, 11],\n",
    "\t[12, 13],\n",
    "\t[14, 15],\n",
    "\t[10, 16],\n",
    "\t[8, 9],\n",
    "\t[3, 4],\n",
    "\t[31, 32],\n",
    "\t[26, 27],\n",
    "\t[22, 28],\n",
    "\t[20, 21],\n",
    "\t[18, 19],\n",
    "\t[17, 23],\n",
    "\t[24, 25],\n",
    "\t[29, 30]\n",
    "]\n",
    "for i, dets in enumerate(DET_GROUPS):\n",
    "    if i>=2:\n",
    "        break\n",
    "    #    continue\n",
    "    d1,d2=dets[0]-1,dets[1]-1\n",
    "    #trig=\n",
    "    fig=plt.figure()\n",
    "    #print(i, d1,d2)\n",
    "    trig=trigger_rates[:,i]\n",
    "    count_sum=np.sum(counts[:,d1,:,:]+ counts[:,d2,:,:], axis=(1,2))\n",
    "    #plt.plot(trig, label=f'trig {i}')\n",
    "    ratio=count_sum/trig\n",
    "    #plt.plot(count_sum,label=f'counts of D{d1}+D{d2}')\n",
    "    plt.plot(count_sum/trig,label=f'trig #{i} / counts of D{d1}+D{d2}')\n",
    "    #most of the counts are not recorded at the begining due to the energy range \n",
    "    plt.legend()\n",
    "    #break\n",
    "    \n",
    "    \n",
    "    \n",
    "\n",
    "    #print(i, '#', trig)\n",
    "    #print(count_sum)\n",
    "    #print(l1data['timedel'])\n",
    "\n",
    "\n",
    "sci_data.spectrogram[1:, :]"
   ]
  },
  {
   "cell_type": "code",
   "execution_count": null,
   "id": "vulnerable-playback",
   "metadata": {},
   "outputs": [],
   "source": []
  },
  {
   "cell_type": "code",
   "execution_count": null,
   "id": "continental-luxury",
   "metadata": {},
   "outputs": [],
   "source": []
  },
  {
   "cell_type": "code",
   "execution_count": null,
   "id": "beneficial-malpractice",
   "metadata": {},
   "outputs": [],
   "source": [
    "x=np.arange(32).reshape((4,8))\n",
    "x,x[:,None]"
   ]
  },
  {
   "cell_type": "code",
   "execution_count": null,
   "id": "atomic-queensland",
   "metadata": {},
   "outputs": [],
   "source": [
    "request_id=\t2108150003\n",
    "l4d=SciSpectrogram.fetch(request_id=request_id)"
   ]
  },
  {
   "cell_type": "code",
   "execution_count": null,
   "id": "graphic-october",
   "metadata": {},
   "outputs": [],
   "source": [
    "l4d.data.info()\n",
    "l4d.peek()"
   ]
  },
  {
   "cell_type": "code",
   "execution_count": null,
   "id": "motivated-finnish",
   "metadata": {},
   "outputs": [],
   "source": [
    "request_id=2107040009\n",
    "l1bkg=SciL1.fetch(request_id=request_id)\n",
    "l1bkg.peek()\n"
   ]
  },
  {
   "cell_type": "code",
   "execution_count": null,
   "id": "typical-wrapping",
   "metadata": {},
   "outputs": [],
   "source": []
  },
  {
   "cell_type": "code",
   "execution_count": null,
   "id": "challenging-borough",
   "metadata": {},
   "outputs": [],
   "source": []
  },
  {
   "cell_type": "code",
   "execution_count": null,
   "id": "ranging-olive",
   "metadata": {},
   "outputs": [],
   "source": []
  },
  {
   "cell_type": "code",
   "execution_count": null,
   "id": "published-attack",
   "metadata": {},
   "outputs": [],
   "source": []
  }
 ],
 "metadata": {
  "kernelspec": {
   "display_name": "Python 3",
   "language": "python",
   "name": "python3"
  },
  "language_info": {
   "codemirror_mode": {
    "name": "ipython",
    "version": 3
   },
   "file_extension": ".py",
   "mimetype": "text/x-python",
   "name": "python",
   "nbconvert_exporter": "python",
   "pygments_lexer": "ipython3",
   "version": "3.9.5"
  }
 },
 "nbformat": 4,
 "nbformat_minor": 5
}
