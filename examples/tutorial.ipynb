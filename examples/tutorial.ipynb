{
 "cells": [
  {
   "cell_type": "markdown",
   "id": "gothic-tennis",
   "metadata": {
    "id": "gothic-tennis"
   },
   "source": [
    "# What is stixdcpy\n",
    "stixdcpy is a python package that facilitates access and analysis of STIX data. It provides APIs to query and download data from STIX data center (https://datacenter.stix.i4ds.net/) and s a set of tools for visualizing data and performing common analysis tasks.  With stixdcpy, users can query and download the following types of data from STIX data center:\n",
    "\n",
    "- Quick-look light curves\n",
    "- Housekeeping data\n",
    "- Science data\n",
    "- Energy calibration data\n",
    "- Auxilary data\n",
    "- STIX solar flare list\n",
    "\n",
    "\n",
    "\n",
    "# Installation\n",
    "```sh \n",
    "pip install stixdcpy\n",
    "```\n",
    "stixdcpy can be also installed from the stixdcpy github repository:\n",
    "```sh \n",
    "pip install git+https://github.com/drhlxiao/stixdcpy.git\n",
    "```\n",
    "\n",
    "# Tutorial and documentation\n",
    "\n",
    "- [Tutorial on Google Colab](https://colab.research.google.com/drive/17fQfbWjL0s0TpblbPL1Ysy_zFXj40FBf?usp=sharing)\n",
    "- [Documentation](https://drhlxiao.github.io/stixdcpy/)\n",
    "\n",
    "# Reporting Issues and Contributing\n",
    "\n",
    "Open an issue on GitHub to report a problem. Pull requests welcome.\n",
    "\n",
    "https://github.com/drhlxiao/stixdcpy\n",
    "\n",
    "\n",
    "\n"
   ]
  },
  {
   "cell_type": "markdown",
   "id": "SrraIbvLAwl3",
   "metadata": {
    "id": "SrraIbvLAwl3"
   },
   "source": [
    "# Install dependencies "
   ]
  },
  {
   "cell_type": "code",
   "execution_count": 1,
   "id": "zWH80Tmu_v4q",
   "metadata": {
    "colab": {
     "base_uri": "https://localhost:8080/"
    },
    "id": "zWH80Tmu_v4q",
    "outputId": "fd8bed48-f50e-4e72-b346-bb76b54062d6"
   },
   "outputs": [
    {
     "name": "stdout",
     "output_type": "stream",
     "text": [
      "Defaulting to user installation because normal site-packages is not writeable\n",
      "Collecting git+https://github.com/drhlxiao/stixdcpy.git\n",
      "  Cloning https://github.com/drhlxiao/stixdcpy.git to /tmp/pip-req-build-ixunsniz\n",
      "  Running command git clone --filter=blob:none --quiet https://github.com/drhlxiao/stixdcpy.git /tmp/pip-req-build-ixunsniz\n",
      "  Resolved https://github.com/drhlxiao/stixdcpy.git to commit 5e1c3051fcfcba4b09ccfb1b567d633ebd3d49ff\n",
      "  Preparing metadata (setup.py) ... \u001b[?25ldone\n",
      "\u001b[?25hRequirement already satisfied: astropy in /home/xiaohl/.local/lib/python3.10/site-packages (from stixdcpy==2.1) (5.1)\n",
      "Requirement already satisfied: matplotlib in /home/xiaohl/.local/lib/python3.10/site-packages (from stixdcpy==2.1) (3.5.2)\n",
      "Requirement already satisfied: numpy in /home/xiaohl/.local/lib/python3.10/site-packages (from stixdcpy==2.1) (1.21.1)\n",
      "Requirement already satisfied: python-dateutil in /home/xiaohl/.local/lib/python3.10/site-packages (from stixdcpy==2.1) (2.8.2)\n",
      "Requirement already satisfied: requests in /usr/lib/python3/dist-packages (from stixdcpy==2.1) (2.25.1)\n",
      "Requirement already satisfied: roentgen in /home/xiaohl/.local/lib/python3.10/site-packages (from stixdcpy==2.1) (1.0)\n",
      "Requirement already satisfied: sunpy in /home/xiaohl/.local/lib/python3.10/site-packages (from stixdcpy==2.1) (4.0.0)\n",
      "Requirement already satisfied: tqdm in /home/xiaohl/.local/lib/python3.10/site-packages (from stixdcpy==2.1) (4.64.0)\n",
      "Requirement already satisfied: PyYAML>=3.13 in /usr/lib/python3/dist-packages (from astropy->stixdcpy==2.1) (5.4.1)\n",
      "Requirement already satisfied: packaging>=19.0 in /usr/lib/python3/dist-packages (from astropy->stixdcpy==2.1) (21.3)\n",
      "Requirement already satisfied: pyerfa>=2.0 in /home/xiaohl/.local/lib/python3.10/site-packages (from astropy->stixdcpy==2.1) (2.0.0.1)\n",
      "Requirement already satisfied: pyparsing>=2.2.1 in /usr/lib/python3/dist-packages (from matplotlib->stixdcpy==2.1) (2.4.7)\n",
      "Requirement already satisfied: kiwisolver>=1.0.1 in /usr/lib/python3/dist-packages (from matplotlib->stixdcpy==2.1) (1.3.2)\n",
      "Requirement already satisfied: cycler>=0.10 in /usr/lib/python3/dist-packages (from matplotlib->stixdcpy==2.1) (0.11.0)\n",
      "Requirement already satisfied: fonttools>=4.22.0 in /usr/lib/python3/dist-packages (from matplotlib->stixdcpy==2.1) (4.29.1)\n",
      "Requirement already satisfied: pillow>=6.2.0 in /usr/lib/python3/dist-packages (from matplotlib->stixdcpy==2.1) (9.0.1)\n",
      "Requirement already satisfied: six>=1.5 in /usr/lib/python3/dist-packages (from python-dateutil->stixdcpy==2.1) (1.16.0)\n",
      "Requirement already satisfied: scipy in /home/xiaohl/.local/lib/python3.10/site-packages (from roentgen->stixdcpy==2.1) (1.8.1)\n",
      "Requirement already satisfied: parfive[ftp]>=1.2.0 in /home/xiaohl/.local/lib/python3.10/site-packages (from sunpy->stixdcpy==2.1) (1.5.1)\n",
      "Requirement already satisfied: aiohttp in /home/xiaohl/.local/lib/python3.10/site-packages (from parfive[ftp]>=1.2.0->sunpy->stixdcpy==2.1) (3.8.1)\n",
      "Requirement already satisfied: aioftp>=0.17.1 in /home/xiaohl/.local/lib/python3.10/site-packages (from parfive[ftp]>=1.2.0->sunpy->stixdcpy==2.1) (0.21.2)\n",
      "Requirement already satisfied: attrs>=17.3.0 in /usr/lib/python3/dist-packages (from aiohttp->parfive[ftp]>=1.2.0->sunpy->stixdcpy==2.1) (21.2.0)\n",
      "Requirement already satisfied: aiosignal>=1.1.2 in /home/xiaohl/.local/lib/python3.10/site-packages (from aiohttp->parfive[ftp]>=1.2.0->sunpy->stixdcpy==2.1) (1.2.0)\n",
      "Requirement already satisfied: frozenlist>=1.1.1 in /home/xiaohl/.local/lib/python3.10/site-packages (from aiohttp->parfive[ftp]>=1.2.0->sunpy->stixdcpy==2.1) (1.3.0)\n",
      "Requirement already satisfied: charset-normalizer<3.0,>=2.0 in /home/xiaohl/.local/lib/python3.10/site-packages (from aiohttp->parfive[ftp]>=1.2.0->sunpy->stixdcpy==2.1) (2.0.12)\n",
      "Requirement already satisfied: async-timeout<5.0,>=4.0.0a3 in /home/xiaohl/.local/lib/python3.10/site-packages (from aiohttp->parfive[ftp]>=1.2.0->sunpy->stixdcpy==2.1) (4.0.2)\n",
      "Requirement already satisfied: multidict<7.0,>=4.5 in /home/xiaohl/.local/lib/python3.10/site-packages (from aiohttp->parfive[ftp]>=1.2.0->sunpy->stixdcpy==2.1) (6.0.2)\n",
      "Requirement already satisfied: yarl<2.0,>=1.0 in /home/xiaohl/.local/lib/python3.10/site-packages (from aiohttp->parfive[ftp]>=1.2.0->sunpy->stixdcpy==2.1) (1.7.2)\n",
      "Requirement already satisfied: idna>=2.0 in /usr/lib/python3/dist-packages (from yarl<2.0,>=1.0->aiohttp->parfive[ftp]>=1.2.0->sunpy->stixdcpy==2.1) (3.3)\n",
      "Building wheels for collected packages: stixdcpy\n",
      "  Building wheel for stixdcpy (setup.py) ... \u001b[?25ldone\n",
      "\u001b[?25h  Created wheel for stixdcpy: filename=stixdcpy-2.1-py3-none-any.whl size=46634 sha256=8b03e4b24f1486c889cd0499ca3f51e2568006ebcf9240a35d4755d7ebca3b72\n",
      "  Stored in directory: /tmp/pip-ephem-wheel-cache-5soorj5k/wheels/b9/23/8d/a9b62c15959ccd15d3fe010cb0e8605adec4c658e71dbfa0dc\n",
      "Successfully built stixdcpy\n",
      "Installing collected packages: stixdcpy\n",
      "  Attempting uninstall: stixdcpy\n",
      "    Found existing installation: stixdcpy 1.0.2\n",
      "    Uninstalling stixdcpy-1.0.2:\n",
      "      Successfully uninstalled stixdcpy-1.0.2\n",
      "Successfully installed stixdcpy-2.1\n",
      "Defaulting to user installation because normal site-packages is not writeable\n",
      "Requirement already satisfied: numpy in /home/xiaohl/.local/lib/python3.10/site-packages (1.21.1)\n",
      "Requirement already satisfied: matplotlib in /home/xiaohl/.local/lib/python3.10/site-packages (3.5.2)\n",
      "Requirement already satisfied: pandas in /home/xiaohl/.local/lib/python3.10/site-packages (1.4.2)\n",
      "Requirement already satisfied: astropy in /home/xiaohl/.local/lib/python3.10/site-packages (5.1)\n",
      "Requirement already satisfied: joblib in /home/xiaohl/.local/lib/python3.10/site-packages (1.1.0)\n",
      "Requirement already satisfied: cycler>=0.10 in /usr/lib/python3/dist-packages (from matplotlib) (0.11.0)\n",
      "Requirement already satisfied: fonttools>=4.22.0 in /usr/lib/python3/dist-packages (from matplotlib) (4.29.1)\n",
      "Requirement already satisfied: pillow>=6.2.0 in /usr/lib/python3/dist-packages (from matplotlib) (9.0.1)\n",
      "Requirement already satisfied: kiwisolver>=1.0.1 in /usr/lib/python3/dist-packages (from matplotlib) (1.3.2)\n",
      "Requirement already satisfied: python-dateutil>=2.7 in /home/xiaohl/.local/lib/python3.10/site-packages (from matplotlib) (2.8.2)\n",
      "Requirement already satisfied: pyparsing>=2.2.1 in /usr/lib/python3/dist-packages (from matplotlib) (2.4.7)\n",
      "Requirement already satisfied: packaging>=20.0 in /usr/lib/python3/dist-packages (from matplotlib) (21.3)\n",
      "Requirement already satisfied: pytz>=2020.1 in /usr/lib/python3/dist-packages (from pandas) (2022.1)\n",
      "Requirement already satisfied: pyerfa>=2.0 in /home/xiaohl/.local/lib/python3.10/site-packages (from astropy) (2.0.0.1)\n",
      "Requirement already satisfied: PyYAML>=3.13 in /usr/lib/python3/dist-packages (from astropy) (5.4.1)\n",
      "Requirement already satisfied: six>=1.5 in /usr/lib/python3/dist-packages (from python-dateutil>=2.7->matplotlib) (1.16.0)\n"
     ]
    }
   ],
   "source": [
    "#Install stixdcpy from pypi\n",
    "#!pip install stixdcpy\n",
    "# Or install from stixdcpy github repository\n",
    "!pip install git+https://github.com/drhlxiao/stixdcpy.git\n",
    "!pip install numpy matplotlib pandas astropy joblib"
   ]
  },
  {
   "cell_type": "code",
   "execution_count": 2,
   "id": "demographic-gibson",
   "metadata": {
    "id": "demographic-gibson"
   },
   "outputs": [
    {
     "ename": "ModuleNotFoundError",
     "evalue": "No module named 'google.colab'",
     "output_type": "error",
     "traceback": [
      "\u001b[0;31m---------------------------------------------------------------------------\u001b[0m",
      "\u001b[0;31mModuleNotFoundError\u001b[0m                       Traceback (most recent call last)",
      "\u001b[0;32m/tmp/ipykernel_70545/830751029.py\u001b[0m in \u001b[0;36m<module>\u001b[0;34m\u001b[0m\n\u001b[1;32m     14\u001b[0m \u001b[0;32mfrom\u001b[0m \u001b[0mstixdcpy\u001b[0m\u001b[0;34m.\u001b[0m\u001b[0mhousekeeping\u001b[0m \u001b[0;32mimport\u001b[0m \u001b[0mHousekeeping\u001b[0m\u001b[0;34m\u001b[0m\u001b[0;34m\u001b[0m\u001b[0m\n\u001b[1;32m     15\u001b[0m \u001b[0;32mfrom\u001b[0m \u001b[0mstixdcpy\u001b[0m \u001b[0;32mimport\u001b[0m \u001b[0mdetector_view\u001b[0m \u001b[0;32mas\u001b[0m \u001b[0mdv\u001b[0m\u001b[0;34m\u001b[0m\u001b[0;34m\u001b[0m\u001b[0m\n\u001b[0;32m---> 16\u001b[0;31m \u001b[0;32mfrom\u001b[0m \u001b[0mgoogle\u001b[0m\u001b[0;34m.\u001b[0m\u001b[0mcolab\u001b[0m \u001b[0;32mimport\u001b[0m \u001b[0mdata_table\u001b[0m\u001b[0;34m\u001b[0m\u001b[0;34m\u001b[0m\u001b[0m\n\u001b[0m\u001b[1;32m     17\u001b[0m \u001b[0mdata_table\u001b[0m\u001b[0;34m.\u001b[0m\u001b[0menable_dataframe_formatter\u001b[0m\u001b[0;34m(\u001b[0m\u001b[0;34m)\u001b[0m\u001b[0;34m\u001b[0m\u001b[0;34m\u001b[0m\u001b[0m\n\u001b[1;32m     18\u001b[0m \u001b[0mget_ipython\u001b[0m\u001b[0;34m(\u001b[0m\u001b[0;34m)\u001b[0m\u001b[0;34m.\u001b[0m\u001b[0mrun_line_magic\u001b[0m\u001b[0;34m(\u001b[0m\u001b[0;34m'matplotlib'\u001b[0m\u001b[0;34m,\u001b[0m \u001b[0;34m'inline'\u001b[0m\u001b[0;34m)\u001b[0m\u001b[0;34m\u001b[0m\u001b[0;34m\u001b[0m\u001b[0m\n",
      "\u001b[0;31mModuleNotFoundError\u001b[0m: No module named 'google.colab'"
     ]
    }
   ],
   "source": [
    "import numpy as np\n",
    "import pandas as pd\n",
    "from pprint import pprint\n",
    "from datetime import timedelta\n",
    "from matplotlib import pyplot as plt\n",
    "from astropy.table import QTable\n",
    "from stixdcpy.quicklook import LightCurves\n",
    "from stixdcpy.energylut import EnergyLUT\n",
    "from stixdcpy import auxiliary as aux\n",
    "from stixdcpy.net import FitsQuery as fq\n",
    "from stixdcpy.net import JSONRequest as jreq\n",
    "from stixdcpy import instrument as inst\n",
    "from stixdcpy.science import ScienceL1, Spectrogram\n",
    "from stixdcpy.housekeeping import Housekeeping\n",
    "from stixdcpy import detector_view as dv\n",
    "from google.colab import data_table\n",
    "data_table.enable_dataframe_formatter()\n",
    "%matplotlib inline"
   ]
  },
  {
   "cell_type": "markdown",
   "id": "champion-conversation",
   "metadata": {
    "id": "champion-conversation"
   },
   "source": [
    "# Request Quick-look  data from STIX data center "
   ]
  },
  {
   "cell_type": "markdown",
   "id": "LQayJ75Zr6jC",
   "metadata": {
    "id": "LQayJ75Zr6jC"
   },
   "source": [
    "Fetch light curves from STIX data center"
   ]
  },
  {
   "cell_type": "code",
   "execution_count": null,
   "id": "hollow-millennium",
   "metadata": {
    "id": "hollow-millennium"
   },
   "outputs": [],
   "source": [
    "lc=LightCurves.from_sdc(start_utc='2022-01-01T05:00:00', end_utc='2022-01-01T10:00:00', ltc=True)"
   ]
  },
  {
   "cell_type": "markdown",
   "id": "uu_mTDIGsASI",
   "metadata": {
    "id": "uu_mTDIGsASI"
   },
   "source": [
    "where: \n",
    "* start_utc -  start time (onboard time); \n",
    "* end_utc - end time ; \n",
    "* ltc - an optional argument.  Perform light time correction to light curves if it is True\n",
    "\n",
    "It returns a data object\n",
    "\n"
   ]
  },
  {
   "cell_type": "markdown",
   "id": "XUb0ekj5r0Kl",
   "metadata": {
    "id": "XUb0ekj5r0Kl"
   },
   "source": [
    "Preview the QL lightcurves"
   ]
  },
  {
   "cell_type": "code",
   "execution_count": null,
   "id": "XCC-4gIxryZZ",
   "metadata": {
    "colab": {
     "base_uri": "https://localhost:8080/",
     "height": 296
    },
    "id": "XCC-4gIxryZZ",
    "outputId": "f39630cd-625a-4fe4-8f41-d9aed6c584f6"
   },
   "outputs": [],
   "source": [
    "lc.peek()"
   ]
  },
  {
   "cell_type": "markdown",
   "id": "niLeo74_tEbG",
   "metadata": {
    "id": "niLeo74_tEbG"
   },
   "source": [
    "Access the data:"
   ]
  },
  {
   "cell_type": "code",
   "execution_count": null,
   "id": "pAtrz6MctHO8",
   "metadata": {
    "colab": {
     "base_uri": "https://localhost:8080/"
    },
    "id": "pAtrz6MctHO8",
    "outputId": "f315fa69-dffb-4a7c-cdbf-aef16d4a0747"
   },
   "outputs": [],
   "source": [
    "lc.data.keys()\n",
    "lc.data['counts']"
   ]
  },
  {
   "cell_type": "markdown",
   "id": "funded-manchester",
   "metadata": {
    "id": "funded-manchester"
   },
   "source": [
    "# Housekeep data"
   ]
  },
  {
   "cell_type": "markdown",
   "id": "WlH-F36Ps0rn",
   "metadata": {
    "id": "WlH-F36Ps0rn"
   },
   "source": [
    "Fetch housekeeping data from STIX data center:\n",
    "\n"
   ]
  },
  {
   "cell_type": "code",
   "execution_count": null,
   "id": "arctic-quantity",
   "metadata": {
    "colab": {
     "base_uri": "https://localhost:8080/"
    },
    "id": "arctic-quantity",
    "outputId": "0170a0cc-54ce-49c7-dec3-17b5cb06f8ff"
   },
   "outputs": [],
   "source": [
    "hk=Housekeeping.from_sdc(start_utc='2021-09-06T12:00:00', end_utc='2021-09-06T14:00:00')\n",
    "pprint(hk.param_names)\n"
   ]
  },
  {
   "cell_type": "markdown",
   "id": "ltX_x93juTCY",
   "metadata": {
    "id": "ltX_x93juTCY"
   },
   "source": [
    "Plot housekeeping data time series:"
   ]
  },
  {
   "cell_type": "code",
   "execution_count": null,
   "id": "federal-press",
   "metadata": {
    "colab": {
     "base_uri": "https://localhost:8080/",
     "height": 296
    },
    "id": "federal-press",
    "outputId": "53117c3b-3247-4487-c22c-71a8ccae6510"
   },
   "outputs": [],
   "source": [
    "hk.plot('NIX00078,NIX00079,NIX00080,NIX00081')\n"
   ]
  },
  {
   "cell_type": "markdown",
   "id": "kGjgSX15uX9J",
   "metadata": {
    "id": "kGjgSX15uX9J"
   },
   "source": [
    "You need to provide the names of parameters to be plotted."
   ]
  },
  {
   "cell_type": "markdown",
   "id": "sVUutDqHuzTV",
   "metadata": {
    "id": "sVUutDqHuzTV"
   },
   "source": [
    "One could also plot time series of parameters using plt"
   ]
  },
  {
   "cell_type": "code",
   "execution_count": null,
   "id": "rXPay01D88XN",
   "metadata": {
    "colab": {
     "base_uri": "https://localhost:8080/",
     "height": 296
    },
    "id": "rXPay01D88XN",
    "outputId": "bd6610e5-fbff-4461-885d-fc5ef7acee63"
   },
   "outputs": [],
   "source": [
    "plt.step( hk.data['datetime'], hk.data['raw_values']['NIXD0023'])\n",
    "plt.xlabel('UTC')\n",
    "plt.ylabel('Mode')"
   ]
  },
  {
   "cell_type": "markdown",
   "id": "conditional-shark",
   "metadata": {
    "id": "conditional-shark"
   },
   "source": [
    "# Calibration data"
   ]
  },
  {
   "cell_type": "markdown",
   "id": "q-cIN1iMvAap",
   "metadata": {
    "id": "q-cIN1iMvAap"
   },
   "source": [
    "Request calibration data from STIX data center"
   ]
  },
  {
   "cell_type": "code",
   "execution_count": null,
   "id": "japanese-convenience",
   "metadata": {
    "id": "japanese-convenience"
   },
   "outputs": [],
   "source": [
    "elut=EnergyLUT.request('2021-09-03T00:00:00')"
   ]
  },
  {
   "cell_type": "markdown",
   "id": "ZpXbWu-ovMra",
   "metadata": {
    "id": "ZpXbWu-ovMra"
   },
   "source": [
    "Print information on the onboard elut and the calibration run peformed closest to the specified time:"
   ]
  },
  {
   "cell_type": "code",
   "execution_count": null,
   "id": "saved-closer",
   "metadata": {
    "colab": {
     "base_uri": "https://localhost:8080/"
    },
    "id": "saved-closer",
    "outputId": "8bb2e2b3-64af-429a-be10-606511f64b0b",
    "scrolled": true
   },
   "outputs": [],
   "source": [
    "elut.info()\n"
   ]
  },
  {
   "cell_type": "markdown",
   "id": "MfMMwUlovtWu",
   "metadata": {
    "id": "MfMMwUlovtWu"
   },
   "source": [
    "Print energy calibration factors "
   ]
  },
  {
   "cell_type": "code",
   "execution_count": null,
   "id": "CEmhMxfUvdJS",
   "metadata": {
    "colab": {
     "base_uri": "https://localhost:8080/"
    },
    "id": "CEmhMxfUvdJS",
    "outputId": "92cb2ceb-ef86-4609-a823-f976c091d5d3"
   },
   "outputs": [],
   "source": [
    "elut.data"
   ]
  },
  {
   "cell_type": "markdown",
   "id": "1ewjp1V5v26-",
   "metadata": {
    "id": "1ewjp1V5v26-"
   },
   "source": [
    "Print the real energy range of bins of a pixel"
   ]
  },
  {
   "cell_type": "code",
   "execution_count": null,
   "id": "alien-fraction",
   "metadata": {
    "colab": {
     "base_uri": "https://localhost:8080/",
     "height": 637
    },
    "id": "alien-fraction",
    "outputId": "79ec7ba6-cc39-48f5-944e-e1922949f098",
    "scrolled": true
   },
   "outputs": [],
   "source": [
    "lut=elut.get_pixel_true_ebins(pixel=34)\n",
    "\n",
    "pd.DataFrame(lut)"
   ]
  },
  {
   "cell_type": "markdown",
   "id": "parliamentary-flooring",
   "metadata": {
    "id": "parliamentary-flooring"
   },
   "source": [
    "# S/C Ephemeris "
   ]
  },
  {
   "cell_type": "markdown",
   "id": "URyozcp9wAtx",
   "metadata": {
    "id": "URyozcp9wAtx"
   },
   "source": [
    "Fetch s/c ephemeris data from STIX data center: "
   ]
  },
  {
   "cell_type": "code",
   "execution_count": null,
   "id": "funky-edward",
   "metadata": {
    "colab": {
     "base_uri": "https://localhost:8080/"
    },
    "id": "funky-edward",
    "outputId": "0a012ee1-0088-4b96-d61c-c5644a53220e"
   },
   "outputs": [],
   "source": [
    "emph=aux.Ephemeris.from_sdc(start_utc='2022-01-01T00:00:00', end_utc='2022-03-31T01:00:00', steps=100)"
   ]
  },
  {
   "cell_type": "markdown",
   "id": "IK2gDMsiwI2T",
   "metadata": {
    "id": "IK2gDMsiwI2T"
   },
   "source": [
    "Preview the data"
   ]
  },
  {
   "cell_type": "code",
   "execution_count": null,
   "id": "Cp4Pfi4_wHZ0",
   "metadata": {
    "colab": {
     "base_uri": "https://localhost:8080/",
     "height": 312
    },
    "id": "Cp4Pfi4_wHZ0",
    "outputId": "db1c2ed3-4ab7-45a0-ca68-31834898bcaa"
   },
   "outputs": [],
   "source": [
    "emph.peek()"
   ]
  },
  {
   "cell_type": "code",
   "execution_count": null,
   "id": "approximate-atlanta",
   "metadata": {
    "colab": {
     "base_uri": "https://localhost:8080/"
    },
    "id": "approximate-atlanta",
    "outputId": "7e31930f-a2cd-4b81-a216-7fa0dce47ee0"
   },
   "outputs": [],
   "source": [
    "pprint(emph.data['orbit'])"
   ]
  },
  {
   "cell_type": "markdown",
   "id": "Q9dd3u140DTk",
   "metadata": {
    "id": "Q9dd3u140DTk"
   },
   "source": [
    "# STIX pointing"
   ]
  },
  {
   "cell_type": "code",
   "execution_count": null,
   "id": "o2jsgljQ0HBO",
   "metadata": {
    "colab": {
     "base_uri": "https://localhost:8080/",
     "height": 327
    },
    "id": "o2jsgljQ0HBO",
    "outputId": "b8075f84-c446-496e-dee2-49e9f048e214"
   },
   "outputs": [],
   "source": [
    "fov=aux.Pointing.from_sdc('2022-03-19T00:00:00')\n",
    "fov.peek()\n"
   ]
  },
  {
   "cell_type": "markdown",
   "id": "mGu9GS9IwRLu",
   "metadata": {
    "id": "mGu9GS9IwRLu"
   },
   "source": [
    "The web tool at the link https://datacenter.stix.i4ds.net/view/ancillary provides more detailed information of STIX pointing"
   ]
  },
  {
   "cell_type": "markdown",
   "id": "V0tqhiXwwPrL",
   "metadata": {
    "id": "V0tqhiXwwPrL"
   },
   "source": []
  },
  {
   "cell_type": "code",
   "execution_count": null,
   "id": "EHvuI0dVm6cH",
   "metadata": {
    "colab": {
     "base_uri": "https://localhost:8080/"
    },
    "id": "EHvuI0dVm6cH",
    "outputId": "ac24eb73-aa93-493f-d2c9-b3e626c02392"
   },
   "outputs": [],
   "source": [
    "#Let's plot the data\n",
    "pprint(fov.data)"
   ]
  },
  {
   "cell_type": "code",
   "execution_count": null,
   "id": "-gKG2DLnwixG",
   "metadata": {
    "id": "-gKG2DLnwixG"
   },
   "outputs": [],
   "source": []
  },
  {
   "cell_type": "markdown",
   "id": "aZaQioVOJQt-",
   "metadata": {
    "id": "aZaQioVOJQt-"
   },
   "source": [
    "# Solar flare light time difference and viewing angle calculator"
   ]
  },
  {
   "cell_type": "markdown",
   "id": "pxh9iOp5wwx1",
   "metadata": {
    "id": "pxh9iOp5wwx1"
   },
   "source": [
    "This tool allows calculation of the light time difference between a flare and observers at earth or solar orbiter, as well as the viewing angles. "
   ]
  },
  {
   "cell_type": "code",
   "execution_count": null,
   "id": "ejeIOKgxJRMZ",
   "metadata": {
    "colab": {
     "base_uri": "https://localhost:8080/"
    },
    "id": "ejeIOKgxJRMZ",
    "outputId": "3553fbe6-6272-47fe-afd9-68d8a57e69eb"
   },
   "outputs": [],
   "source": [
    "flare_aux=jreq.request_flare_light_time_and_angle(utc='2022-03-01T00:00:00', flare_x=100, flare_y=1000, observer='stix')\n",
    "\n",
    "\n",
    "pprint(flare_aux)"
   ]
  },
  {
   "cell_type": "markdown",
   "id": "scY8hcbWxcWP",
   "metadata": {
    "id": "scY8hcbWxcWP"
   },
   "source": [
    "where:        \n",
    "\n",
    "* utc -    observation time\n",
    "* flare_x -  flare helio-projective longitude in units of arcsec as seen by the observer \n",
    "* flare_y -  flare helio-projective latitude in units of arcsec \n",
    "* observer: It can be either \"earth\" or \"stix\" . The default value is \"earth\". \n",
    "\n",
    "A data object is returnned\n"
   ]
  },
  {
   "cell_type": "markdown",
   "id": "0wR6uKOOwmIq",
   "metadata": {
    "id": "0wR6uKOOwmIq"
   },
   "source": [
    "The tool is available at the link\n",
    "https://datacenter.stix.i4ds.net/view/ancillary\n"
   ]
  },
  {
   "cell_type": "markdown",
   "id": "ethical-content",
   "metadata": {
    "id": "ethical-content"
   },
   "source": [
    "# Access and preview science data"
   ]
  },
  {
   "cell_type": "markdown",
   "id": "contrary-decrease",
   "metadata": {
    "id": "contrary-decrease"
   },
   "source": [
    "## level-1 science data\n"
   ]
  },
  {
   "cell_type": "markdown",
   "id": "zs0KccO0o59a",
   "metadata": {
    "id": "zs0KccO0o59a"
   },
   "source": [
    "Let's download a level-1 science data file from STIX data center"
   ]
  },
  {
   "cell_type": "code",
   "execution_count": null,
   "id": "partial-conference",
   "metadata": {
    "id": "partial-conference"
   },
   "outputs": [],
   "source": [
    "l1_obj=ScienceL1.from_sdc(request_id=2112240046)"
   ]
  },
  {
   "cell_type": "markdown",
   "id": "UkQzL4sfpEXz",
   "metadata": {
    "id": "UkQzL4sfpEXz"
   },
   "source": [
    "Here **2112240046** is the requests ID (also called unique id), which can  can be found on the science data web page https://datacenter.stix.i4ds.net/view/list/bsd.   \n",
    "**ltc** is an optional argument. Light time correction will be performed if ltc = True. \n",
    "**l1_obj** is a data object "
   ]
  },
  {
   "cell_type": "markdown",
   "id": "LUXvY_gVpswg",
   "metadata": {
    "id": "LUXvY_gVpswg"
   },
   "source": [
    "Access the FITS Header Data Unit List attached to the data object:"
   ]
  },
  {
   "cell_type": "code",
   "execution_count": null,
   "id": "interpreted-coordinate",
   "metadata": {
    "colab": {
     "base_uri": "https://localhost:8080/"
    },
    "id": "interpreted-coordinate",
    "outputId": "397c26bc-2f57-49ae-ec45-2eeb104a1a0e",
    "scrolled": true
   },
   "outputs": [],
   "source": [
    "hdul=l1_obj.hdul\n",
    "hdul.info()"
   ]
  },
  {
   "cell_type": "markdown",
   "id": "9bafJqiEqCTx",
   "metadata": {
    "id": "9bafJqiEqCTx"
   },
   "source": [
    "Note that FITS hdul is only one of the data attributes.  "
   ]
  },
  {
   "cell_type": "markdown",
   "id": "1glWo6ospzAm",
   "metadata": {
    "id": "1glWo6ospzAm"
   },
   "source": [
    "Let's print the hdul header"
   ]
  },
  {
   "cell_type": "code",
   "execution_count": null,
   "id": "7Mx5Z-e-ji33",
   "metadata": {
    "colab": {
     "base_uri": "https://localhost:8080/"
    },
    "id": "7Mx5Z-e-ji33",
    "outputId": "2d288c42-aca1-4965-ae52-1f31bfefa8d1"
   },
   "outputs": [],
   "source": [
    "hdul['PRIMARY'].header"
   ]
  },
  {
   "cell_type": "markdown",
   "id": "cU7n2_3trJry",
   "metadata": {
    "id": "cU7n2_3trJry"
   },
   "source": [
    "Preview science data "
   ]
  },
  {
   "cell_type": "code",
   "execution_count": null,
   "id": "swiss-binding",
   "metadata": {
    "colab": {
     "base_uri": "https://localhost:8080/",
     "height": 935
    },
    "id": "swiss-binding",
    "outputId": "dde4bbbf-90de-40d1-eda6-553da94c119a"
   },
   "outputs": [],
   "source": [
    "l1_obj.peek('spg,lc, spec,tbin, qllc')\n"
   ]
  },
  {
   "cell_type": "markdown",
   "id": "8gxTnuCBrZCa",
   "metadata": {
    "id": "8gxTnuCBrZCa"
   },
   "source": []
  },
  {
   "cell_type": "markdown",
   "id": "1Shc49-tyFsK",
   "metadata": {
    "id": "1Shc49-tyFsK"
   },
   "source": [
    "Peform dead time correction to the data"
   ]
  },
  {
   "cell_type": "code",
   "execution_count": null,
   "id": "eI_iQHE3s6zi",
   "metadata": {
    "id": "eI_iQHE3s6zi"
   },
   "outputs": [],
   "source": [
    "corrected_data=l1_obj.correct_dead_time()"
   ]
  },
  {
   "cell_type": "markdown",
   "id": "qFbHUob0yIYu",
   "metadata": {
    "id": "qFbHUob0yIYu"
   },
   "source": [
    "Print the array dimensions"
   ]
  },
  {
   "cell_type": "code",
   "execution_count": null,
   "id": "WpAKFeMRs9d8",
   "metadata": {
    "colab": {
     "base_uri": "https://localhost:8080/"
    },
    "id": "WpAKFeMRs9d8",
    "outputId": "53ff26f6-e347-4c64-da53-220eba01300e"
   },
   "outputs": [],
   "source": [
    "corrected_data.keys()\n",
    "for key, value in corrected_data.items():\n",
    "    print(key, value.shape)"
   ]
  },
  {
   "cell_type": "markdown",
   "id": "Zmq4S_8pyN4B",
   "metadata": {
    "id": "Zmq4S_8pyN4B"
   },
   "source": [
    "Plot the live ratios of detectors: "
   ]
  },
  {
   "cell_type": "code",
   "execution_count": null,
   "id": "AI8Rcm72tJmd",
   "metadata": {
    "colab": {
     "base_uri": "https://localhost:8080/",
     "height": 296
    },
    "id": "AI8Rcm72tJmd",
    "outputId": "5dfa7d5a-4995-4db6-95e9-3c5700fd3974"
   },
   "outputs": [],
   "source": [
    "plt.figure()\n",
    "plt.plot(l1_obj.time, corrected_data['live_ratio'])\n",
    "plt.xlabel('Time (s)')\n",
    "plt.ylabel('Live ratio of detector groups')"
   ]
  },
  {
   "cell_type": "markdown",
   "id": "ieDlyIhcyV3b",
   "metadata": {
    "id": "ieDlyIhcyV3b"
   },
   "source": [
    "Plot pixel and energy integerated corrected count rate:"
   ]
  },
  {
   "cell_type": "code",
   "execution_count": null,
   "id": "AcsrZIhjtKTM",
   "metadata": {
    "colab": {
     "base_uri": "https://localhost:8080/",
     "height": 825
    },
    "id": "AcsrZIhjtKTM",
    "outputId": "d26398a4-d7da-4b17-83b5-74d08e3f14b6"
   },
   "outputs": [],
   "source": [
    "plt.figure()\n",
    "plt.plot(l1_obj.time, np.sum(corrected_data['corrected_rates'], axis=(2,3) ))\n"
   ]
  },
  {
   "cell_type": "markdown",
   "id": "N5RLLFhfyc7H",
   "metadata": {
    "id": "N5RLLFhfyc7H"
   },
   "source": [
    "Visualize counts with the module DetectorView"
   ]
  },
  {
   "cell_type": "code",
   "execution_count": null,
   "id": "8IqxG6p6ZLdx",
   "metadata": {
    "colab": {
     "base_uri": "https://localhost:8080/",
     "height": 1000
    },
    "id": "8IqxG6p6ZLdx",
    "outputId": "67924e8b-e44e-4193-f735-3cdbe5a22c6f"
   },
   "outputs": [],
   "source": [
    "pixel_counts = l1_obj.pixel_total_counts\n",
    "det_view = dv.DetectorView(pixel_counts)\n",
    "det_view.display()"
   ]
  },
  {
   "cell_type": "code",
   "execution_count": null,
   "id": "g7cu8Z-hpUXw",
   "metadata": {
    "colab": {
     "base_uri": "https://localhost:8080/"
    },
    "id": "g7cu8Z-hpUXw",
    "outputId": "8d784fbb-fcdf-4396-c436-986506ba61b7"
   },
   "outputs": [],
   "source": [
    "l1_obj.ebins_high"
   ]
  },
  {
   "cell_type": "code",
   "execution_count": null,
   "id": "_omn9ALCodFc",
   "metadata": {
    "id": "_omn9ALCodFc"
   },
   "outputs": [],
   "source": [
    "#print(l1_obj.url)\n",
    "#link to science browser "
   ]
  },
  {
   "cell_type": "markdown",
   "id": "acknowledged-correlation",
   "metadata": {
    "id": "acknowledged-correlation"
   },
   "source": [
    "## Download and plot spectrograms"
   ]
  },
  {
   "cell_type": "markdown",
   "id": "zMaImK_Jy7Fb",
   "metadata": {
    "id": "zMaImK_Jy7Fb"
   },
   "source": [
    "Let's fetch a spectrogram data file from STIX data center"
   ]
  },
  {
   "cell_type": "code",
   "execution_count": null,
   "id": "clean-electron",
   "metadata": {
    "id": "clean-electron"
   },
   "outputs": [],
   "source": [
    "request_id=\t2108150003\n",
    "l4d=Spectrogram.from_sdc(request_id=request_id)\n"
   ]
  },
  {
   "cell_type": "code",
   "execution_count": null,
   "id": "prescribed-andrews",
   "metadata": {
    "colab": {
     "base_uri": "https://localhost:8080/",
     "height": 634
    },
    "id": "prescribed-andrews",
    "outputId": "56f6c105-6bfc-49e6-e87e-104f84c633dc"
   },
   "outputs": [],
   "source": [
    "l4d.hdul.info()\n",
    "l4d.peek()"
   ]
  },
  {
   "cell_type": "markdown",
   "id": "jewish-gilbert",
   "metadata": {
    "id": "jewish-gilbert"
   },
   "source": [
    "# Search and download FITS files from STIX data center"
   ]
  },
  {
   "cell_type": "markdown",
   "id": "giX_w8B0zExq",
   "metadata": {
    "id": "giX_w8B0zExq"
   },
   "source": [
    "Let's set download location first: "
   ]
  },
  {
   "cell_type": "code",
   "execution_count": null,
   "id": "primary-performance",
   "metadata": {
    "id": "primary-performance",
    "scrolled": true
   },
   "outputs": [],
   "source": [
    "fq.chdir('./downloads')\n",
    "\n"
   ]
  },
  {
   "cell_type": "code",
   "execution_count": null,
   "id": "suCVNz9dzLM6",
   "metadata": {
    "id": "suCVNz9dzLM6"
   },
   "outputs": [],
   "source": [
    "res=fq.query('2022-02-10T05:00:00', '2022-02-18T07:00:00', product_type='xray-cpd',filter='BKG')\n"
   ]
  },
  {
   "cell_type": "markdown",
   "id": "3nAg3-jYzM1R",
   "metadata": {
    "id": "3nAg3-jYzM1R"
   },
   "source": [
    "Arguments: \n",
    "* **product_type**   options:  \n",
    "| option        \t| Data type             \t|\n",
    "|--------------\t|----------------------\t|\n",
    "| any      \t| Any type (default value)          \t|\n",
    "| science      \t| Any science          \t|\n",
    "| quicklook    \t| Any quick-look       \t|\n",
    "| housekeeping \t| Housekeeping         \t|\n",
    "| xray-rpd     \t| Raw pixel data       \t|\n",
    "| xray-cpd     \t| Pixel data           \t|\n",
    "| xray-scpd    \t| Summed pixel data    \t|\n",
    "| xray-vis     \t| Visibility           \t|\n",
    "| xray-spec    \t| Spectrogram          \t|\n",
    "| ql-lc        \t| QL light curve       \t|\n",
    "| ql-var       \t| QL variance          \t|\n",
    "| ql-bkg       \t| QL background        \t|\n",
    "| ql-spec      \t| QL spectra           \t|\n",
    "| ql-ffl       \t| QL flare location    \t|\n",
    "| ql-cal       \t| Calibration spectrum \t|\n",
    "| aspect       \t| Bulk aspect          \t|\n",
    "| auxiliary    \t| Auxiliary data       \t|\n",
    "\n",
    "\n",
    "* filter: optional. \n",
    "    - Use to filter FITS files. Only science data with descriptions containing the specified string will be selected. \n",
    "    set it to None if you  don't want to filter the results\n",
    "\n",
    "An instance of FitQueryResult  is returned. \n",
    "\n"
   ]
  },
  {
   "cell_type": "markdown",
   "id": "cY32tRCbmqHF",
   "metadata": {
    "id": "cY32tRCbmqHF"
   },
   "source": [
    "Convert the query result to pandas dataframe: \n"
   ]
  },
  {
   "cell_type": "code",
   "execution_count": null,
   "id": "crazy-longitude",
   "metadata": {
    "colab": {
     "base_uri": "https://localhost:8080/",
     "height": 477
    },
    "id": "crazy-longitude",
    "outputId": "3dd63cfa-9ef2-4026-92d0-de3af1d100a7"
   },
   "outputs": [],
   "source": [
    "df=res.to_pandas()\n",
    "df\n"
   ]
  },
  {
   "cell_type": "markdown",
   "id": "4MLTvZ940cnj",
   "metadata": {
    "id": "4MLTvZ940cnj"
   },
   "source": [
    "One could download all the FITS file from stix data center by using the function \"fetch\": "
   ]
  },
  {
   "cell_type": "code",
   "execution_count": null,
   "id": "educational-recruitment",
   "metadata": {
    "id": "educational-recruitment"
   },
   "outputs": [],
   "source": [
    "fits_list=res.fetch()"
   ]
  },
  {
   "cell_type": "markdown",
   "id": "4bOaldb90vOZ",
   "metadata": {
    "id": "4bOaldb90vOZ"
   },
   "source": [
    "Note that if a FITS file is found on the local disk, it will not be downloaded again from STIX data center. "
   ]
  },
  {
   "cell_type": "markdown",
   "id": "7HkCPZmL0r7E",
   "metadata": {
    "id": "7HkCPZmL0r7E"
   },
   "source": [
    "Open all the download FITS file: "
   ]
  },
  {
   "cell_type": "code",
   "execution_count": null,
   "id": "declared-personal",
   "metadata": {
    "id": "declared-personal"
   },
   "outputs": [],
   "source": [
    "hduls=res.open_fits()\n"
   ]
  },
  {
   "cell_type": "markdown",
   "id": "lOziHF4z1H9V",
   "metadata": {
    "id": "lOziHF4z1H9V"
   },
   "source": [
    "hduls is a list of hdu objects"
   ]
  },
  {
   "cell_type": "markdown",
   "id": "Q-vv7lSd1MWD",
   "metadata": {
    "id": "Q-vv7lSd1MWD"
   },
   "source": [
    "Print file info"
   ]
  },
  {
   "cell_type": "code",
   "execution_count": null,
   "id": "capable-wagner",
   "metadata": {
    "colab": {
     "base_uri": "https://localhost:8080/"
    },
    "id": "capable-wagner",
    "outputId": "a61a0f6d-7040-4c33-e917-934fce111bc6"
   },
   "outputs": [],
   "source": [
    "res.fits_info()"
   ]
  },
  {
   "cell_type": "markdown",
   "id": "serious-certification",
   "metadata": {
    "id": "serious-certification"
   },
   "source": [
    "# Download flare list from STIX data center"
   ]
  },
  {
   "cell_type": "code",
   "execution_count": null,
   "id": "frank-possible",
   "metadata": {
    "colab": {
     "base_uri": "https://localhost:8080/"
    },
    "id": "frank-possible",
    "outputId": "be7a197e-6a5a-45c1-9222-25c7b8acd72b"
   },
   "outputs": [],
   "source": [
    "flares=jreq.fetch_flare_list('2021-04-08T00:00:00',  '2021-05-09T00:00:00', sort='goes' )\n",
    "\n",
    "#the \"flares\" is a python list\n",
    "pprint(flares)"
   ]
  },
  {
   "cell_type": "markdown",
   "id": "ljfzG8a41Vjg",
   "metadata": {
    "id": "ljfzG8a41Vjg"
   },
   "source": [
    "\n",
    "Parameters:\n",
    "\n",
    "* start_UTC: str\n",
    "  - start time\n",
    "* end_UTC: str\n",
    "  - end time\n",
    "\n",
    "* sorting key: str, options:\n",
    " \n",
    "- LC0, flare peak counts of the 4 - 10 keV light curve \n",
    "\n",
    "- LC1, flare peak counts of 10 - 10 keV light curves\n",
    "- LC2, similar to above, but of the third energy band\n",
    "- LC3,  similar to above, but of the fourth energy band\n",
    "- LC4,  similar to above, but of the fifth  energy band\n",
    "- time,  flare observation time\n",
    "- goes, goes class "
   ]
  },
  {
   "cell_type": "markdown",
   "id": "TdirjLNc18zW",
   "metadata": {
    "id": "TdirjLNc18zW"
   },
   "source": [
    "Display the list in  table view:\n"
   ]
  },
  {
   "cell_type": "code",
   "execution_count": null,
   "id": "YFB-8qp3hlnl",
   "metadata": {
    "colab": {
     "base_uri": "https://localhost:8080/",
     "height": 1034
    },
    "id": "YFB-8qp3hlnl",
    "outputId": "6b308cb8-4361-4433-bd7f-e738423f87a9"
   },
   "outputs": [],
   "source": [
    "df=pd.DataFrame(flares)\n",
    "df"
   ]
  }
 ],
 "metadata": {
  "colab": {
   "collapsed_sections": [],
   "name": "stixdcpy .ipynb",
   "provenance": []
  },
  "kernelspec": {
   "display_name": "Python 3 (ipykernel)",
   "language": "python",
   "name": "python3"
  },
  "language_info": {
   "codemirror_mode": {
    "name": "ipython",
    "version": 3
   },
   "file_extension": ".py",
   "mimetype": "text/x-python",
   "name": "python",
   "nbconvert_exporter": "python",
   "pygments_lexer": "ipython3",
   "version": "3.10.4"
  }
 },
 "nbformat": 4,
 "nbformat_minor": 5
}
