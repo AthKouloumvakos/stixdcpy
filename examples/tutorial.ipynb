{
 "cells": [
  {
   "cell_type": "markdown",
   "id": "gothic-tennis",
   "metadata": {
    "id": "gothic-tennis"
   },
   "source": [
    "# What is stixdcpy\n",
    "stixdcpy is a python package that facilitates access and analysis of STIX data. It provides APIs to query and download data from STIX data center (https://datacenter.stix.i4ds.net/) and s a set of tools for visualizing data and performing common analysis tasks.  With stixdcpy, users can query and download the following types of data from STIX data center:\n",
    "\n",
    "- Quick-look light curves\n",
    "- Housekeeping data\n",
    "- Science data\n",
    "- Energy calibration data\n",
    "- Auxilary data\n",
    "- STIX solar flare list\n",
    "\n",
    "\n",
    "\n",
    "# Installation\n",
    "```sh \n",
    "pip install stixdcpy\n",
    "```\n",
    "stixdcpy can be also installed from the stixdcpy github repository:\n",
    "```sh \n",
    "pip install git+https://github.com/i4ds/stixdcpy.git\n",
    "```\n",
    "\n",
    "# Tutorial and documentation\n",
    "\n",
    "- [Tutorial on Google Colab](https://colab.research.google.com/drive/17fQfbWjL0s0TpblbPL1Ysy_zFXj40FBf?usp=sharing)\n",
    "- [Documentation](https://drhlxiao.github.io/stixdcpy/)\n",
    "\n",
    "# Reporting Issues and Contributing\n",
    "\n",
    "Open an issue on the GitHub repo to report a problem. Pull requests welcome.\n",
    "Github repo: https://github.com/i4ds/stixdcpy\n",
    "\n"
   ]
  },
  {
   "cell_type": "markdown",
   "id": "SrraIbvLAwl3",
   "metadata": {
    "id": "SrraIbvLAwl3"
   },
   "source": [
    "# Install dependencies "
   ]
  },
  {
   "cell_type": "code",
   "execution_count": null,
   "id": "zWH80Tmu_v4q",
   "metadata": {
    "colab": {
     "base_uri": "https://localhost:8080/"
    },
    "id": "zWH80Tmu_v4q",
    "outputId": "8d74c57d-a12a-41c5-c567-94e987cd364e"
   },
   "outputs": [],
   "source": [
    "#Install stixdcpy from pypi\n",
    "#!pip install stixdcpy\n",
    "# Or install from stixdcpy github repository\n",
    "\n",
    "!pip install git+https://github.com/i4ds/stixdcpy.git\n",
    "!pip install numpy matplotlib pandas astropy joblib simplejson"
   ]
  },
  {
   "cell_type": "code",
   "execution_count": null,
   "id": "demographic-gibson",
   "metadata": {
    "id": "demographic-gibson"
   },
   "outputs": [],
   "source": [
    "import numpy as np\n",
    "import pandas as pd\n",
    "\n",
    "from pprint import pprint\n",
    "from datetime import timedelta\n",
    "from matplotlib import pyplot as plt\n",
    "from astropy.table import QTable\n",
    "from stixdcpy.quicklook import LightCurves\n",
    "from stixdcpy.energylut import EnergyLUT\n",
    "from stixdcpy import auxiliary as aux\n",
    "from stixdcpy.net import FitsQuery as fq\n",
    "from stixdcpy.net import JSONRequest as jreq\n",
    "from stixdcpy import instrument as inst\n",
    "from stixdcpy.science import ScienceL1, Spectrogram, spec_fits_crop, spec_fits_concatenate, fits_time_to_datetime\n",
    "from stixdcpy.housekeeping import Housekeeping\n",
    "from astropy.io import fits\n",
    "from stixdcpy import detector_view as dv\n",
    "from stixdcpy import spectrogram  as cspec\n",
    "#from google.colab import data_table\n",
    "#data_table.enable_dataframe_formatter()\n",
    "%matplotlib notebook"
   ]
  },
  {
   "cell_type": "markdown",
   "id": "champion-conversation",
   "metadata": {
    "id": "champion-conversation"
   },
   "source": [
    "# Request Quick-look  data from STIX data center "
   ]
  },
  {
   "cell_type": "markdown",
   "id": "LQayJ75Zr6jC",
   "metadata": {
    "id": "LQayJ75Zr6jC"
   },
   "source": [
    "Let's download some light curves from STIX data center"
   ]
  },
  {
   "cell_type": "code",
   "execution_count": null,
   "id": "hollow-millennium",
   "metadata": {
    "id": "hollow-millennium"
   },
   "outputs": [],
   "source": [
    "lc = LightCurves.from_sdc(start_utc='2022-08-30T05:00:00', end_utc='2022-08-30T10:00:00', ltc=True)\n"
   ]
  },
  {
   "cell_type": "markdown",
   "id": "uu_mTDIGsASI",
   "metadata": {
    "id": "uu_mTDIGsASI"
   },
   "source": [
    "where: \n",
    "* start_utc -  start time (onboard time); \n",
    "* end_utc - end time ; \n",
    "* ltc - an optional argument.  Perform light time correction to light curves if it is True\n",
    "\n",
    "It returns a data object\n",
    "\n"
   ]
  },
  {
   "cell_type": "markdown",
   "id": "XUb0ekj5r0Kl",
   "metadata": {
    "id": "XUb0ekj5r0Kl"
   },
   "source": [
    "Preview the QL lightcurves"
   ]
  },
  {
   "cell_type": "code",
   "execution_count": null,
   "id": "XCC-4gIxryZZ",
   "metadata": {
    "colab": {
     "base_uri": "https://localhost:8080/",
     "height": 297
    },
    "id": "XCC-4gIxryZZ",
    "outputId": "1aba06cc-b660-42e0-e2e4-9a6715e516c9"
   },
   "outputs": [],
   "source": [
    "lc.peek()"
   ]
  },
  {
   "cell_type": "markdown",
   "id": "niLeo74_tEbG",
   "metadata": {
    "id": "niLeo74_tEbG"
   },
   "source": [
    "Access the data:"
   ]
  },
  {
   "cell_type": "code",
   "execution_count": null,
   "id": "pAtrz6MctHO8",
   "metadata": {
    "colab": {
     "base_uri": "https://localhost:8080/"
    },
    "id": "pAtrz6MctHO8",
    "outputId": "dee2ddc1-db68-4376-ab10-3ef3f1c2414c"
   },
   "outputs": [],
   "source": [
    "lc.data.keys()\n"
   ]
  },
  {
   "cell_type": "code",
   "execution_count": null,
   "id": "p0dPcHE9b2WZ",
   "metadata": {
    "id": "p0dPcHE9b2WZ"
   },
   "outputs": [],
   "source": [
    "#pprint(lc.data['counts'])"
   ]
  },
  {
   "cell_type": "code",
   "execution_count": null,
   "id": "zfadnPcicBO9",
   "metadata": {
    "colab": {
     "base_uri": "https://localhost:8080/",
     "height": 296
    },
    "id": "zfadnPcicBO9",
    "outputId": "0b124807-40d2-44ce-93ef-02a625aa4abf"
   },
   "outputs": [],
   "source": [
    "fig=plt.figure()\n",
    "plt.plot(lc.time, lc.counts[0,:])"
   ]
  },
  {
   "cell_type": "markdown",
   "id": "funded-manchester",
   "metadata": {
    "id": "funded-manchester"
   },
   "source": [
    "# Housekeep data"
   ]
  },
  {
   "cell_type": "markdown",
   "id": "WlH-F36Ps0rn",
   "metadata": {
    "id": "WlH-F36Ps0rn"
   },
   "source": [
    "Fetching housekeeping data from STIX data center:\n",
    "\n"
   ]
  },
  {
   "cell_type": "code",
   "execution_count": null,
   "id": "arctic-quantity",
   "metadata": {
    "colab": {
     "base_uri": "https://localhost:8080/"
    },
    "id": "arctic-quantity",
    "outputId": "639cd265-6d50-4dcb-be07-e9697ad81814"
   },
   "outputs": [],
   "source": [
    "hk=Housekeeping.from_sdc(start_utc='2021-09-06T12:00:00', end_utc='2021-09-06T14:00:00')\n",
    "pprint(hk.param_names)\n"
   ]
  },
  {
   "cell_type": "markdown",
   "id": "ltX_x93juTCY",
   "metadata": {
    "id": "ltX_x93juTCY"
   },
   "source": [
    "Plot housekeeping data time series:"
   ]
  },
  {
   "cell_type": "code",
   "execution_count": null,
   "id": "federal-press",
   "metadata": {
    "colab": {
     "base_uri": "https://localhost:8080/",
     "height": 297
    },
    "id": "federal-press",
    "outputId": "b6243caf-4cb9-4fb5-d586-ca89c98b4e80"
   },
   "outputs": [],
   "source": [
    "hk.plot('NIX00078,NIX00079,NIX00080,NIX00081')\n"
   ]
  },
  {
   "cell_type": "markdown",
   "id": "kGjgSX15uX9J",
   "metadata": {
    "id": "kGjgSX15uX9J"
   },
   "source": [
    "You need to provide the names of parameters to be plotted."
   ]
  },
  {
   "cell_type": "markdown",
   "id": "sVUutDqHuzTV",
   "metadata": {
    "id": "sVUutDqHuzTV"
   },
   "source": [
    "One could also plot time series of parameters using plt"
   ]
  },
  {
   "cell_type": "code",
   "execution_count": null,
   "id": "rXPay01D88XN",
   "metadata": {
    "colab": {
     "base_uri": "https://localhost:8080/",
     "height": 297
    },
    "id": "rXPay01D88XN",
    "outputId": "ac2036b3-c2ff-4f96-a103-74533377e683"
   },
   "outputs": [],
   "source": [
    "plt.step( hk.data['datetime'], hk.data['raw_values']['NIXD0023'])\n",
    "plt.xlabel('UTC')\n",
    "plt.ylabel('Mode')"
   ]
  },
  {
   "cell_type": "markdown",
   "id": "conditional-shark",
   "metadata": {
    "id": "conditional-shark"
   },
   "source": [
    "# Calibration data"
   ]
  },
  {
   "cell_type": "markdown",
   "id": "q-cIN1iMvAap",
   "metadata": {
    "id": "q-cIN1iMvAap"
   },
   "source": [
    "Request calibration data from STIX data center"
   ]
  },
  {
   "cell_type": "code",
   "execution_count": null,
   "id": "japanese-convenience",
   "metadata": {
    "id": "japanese-convenience"
   },
   "outputs": [],
   "source": [
    "elut=EnergyLUT.request('2021-09-03T00:00:00')"
   ]
  },
  {
   "cell_type": "markdown",
   "id": "ZpXbWu-ovMra",
   "metadata": {
    "id": "ZpXbWu-ovMra"
   },
   "source": [
    "Print information on the onboard elut and the calibration run peformed closest to the specified time:"
   ]
  },
  {
   "cell_type": "code",
   "execution_count": null,
   "id": "saved-closer",
   "metadata": {
    "colab": {
     "base_uri": "https://localhost:8080/"
    },
    "id": "saved-closer",
    "outputId": "9540154d-e910-4bf8-fdc0-9493b24b40e6",
    "scrolled": true
   },
   "outputs": [],
   "source": [
    "elut.info()\n"
   ]
  },
  {
   "cell_type": "markdown",
   "id": "MfMMwUlovtWu",
   "metadata": {
    "id": "MfMMwUlovtWu"
   },
   "source": [
    "Print energy calibration factors "
   ]
  },
  {
   "cell_type": "code",
   "execution_count": null,
   "id": "CEmhMxfUvdJS",
   "metadata": {
    "colab": {
     "base_uri": "https://localhost:8080/"
    },
    "id": "CEmhMxfUvdJS",
    "outputId": "5e7579b9-f115-48e5-dbea-353fc12ec736"
   },
   "outputs": [],
   "source": [
    "elut.data"
   ]
  },
  {
   "cell_type": "markdown",
   "id": "1ewjp1V5v26-",
   "metadata": {
    "id": "1ewjp1V5v26-"
   },
   "source": [
    "Print the real energy range of bins of a pixel"
   ]
  },
  {
   "cell_type": "code",
   "execution_count": null,
   "id": "alien-fraction",
   "metadata": {
    "colab": {
     "base_uri": "https://localhost:8080/",
     "height": 639
    },
    "id": "alien-fraction",
    "outputId": "73d9f6f9-244c-4ee0-b72b-e192e98b1b6f",
    "scrolled": true
   },
   "outputs": [],
   "source": [
    "lut=elut.get_pixel_true_ebins(pixel=34)\n",
    "\n",
    "pd.DataFrame(lut)"
   ]
  },
  {
   "cell_type": "markdown",
   "id": "parliamentary-flooring",
   "metadata": {
    "id": "parliamentary-flooring"
   },
   "source": [
    "# S/C Ephemeris "
   ]
  },
  {
   "cell_type": "markdown",
   "id": "URyozcp9wAtx",
   "metadata": {
    "id": "URyozcp9wAtx"
   },
   "source": [
    "Fetch s/c ephemeris data from STIX data center: "
   ]
  },
  {
   "cell_type": "code",
   "execution_count": null,
   "id": "funky-edward",
   "metadata": {
    "colab": {
     "base_uri": "https://localhost:8080/"
    },
    "id": "funky-edward",
    "outputId": "5e153d41-2047-4023-fc8c-058a91cc5f3a"
   },
   "outputs": [],
   "source": [
    "emph=aux.Ephemeris.from_sdc(start_utc='2022-01-01T00:00:00', end_utc='2022-03-31T01:00:00', steps=100)"
   ]
  },
  {
   "cell_type": "markdown",
   "id": "IK2gDMsiwI2T",
   "metadata": {
    "id": "IK2gDMsiwI2T"
   },
   "source": [
    "Preview the data"
   ]
  },
  {
   "cell_type": "code",
   "execution_count": null,
   "id": "Cp4Pfi4_wHZ0",
   "metadata": {
    "colab": {
     "base_uri": "https://localhost:8080/",
     "height": 313
    },
    "id": "Cp4Pfi4_wHZ0",
    "outputId": "adf2dc6a-80e2-48c8-dec0-4392bbbc2073"
   },
   "outputs": [],
   "source": [
    "emph.peek()"
   ]
  },
  {
   "cell_type": "code",
   "execution_count": null,
   "id": "approximate-atlanta",
   "metadata": {
    "colab": {
     "base_uri": "https://localhost:8080/"
    },
    "id": "approximate-atlanta",
    "outputId": "27d7ff86-7045-4508-a19c-4b0f9fda4b9c"
   },
   "outputs": [],
   "source": [
    "pprint(emph.data['orbit'])"
   ]
  },
  {
   "cell_type": "markdown",
   "id": "Q9dd3u140DTk",
   "metadata": {
    "id": "Q9dd3u140DTk"
   },
   "source": [
    "# STIX pointing"
   ]
  },
  {
   "cell_type": "code",
   "execution_count": null,
   "id": "o2jsgljQ0HBO",
   "metadata": {
    "colab": {
     "base_uri": "https://localhost:8080/",
     "height": 328
    },
    "id": "o2jsgljQ0HBO",
    "outputId": "47772eb5-f399-4535-dee6-310100e0cb61"
   },
   "outputs": [],
   "source": [
    "fov=aux.Pointing.from_sdc('2022-03-19T00:00:00')\n",
    "fov.peek()\n"
   ]
  },
  {
   "cell_type": "markdown",
   "id": "mGu9GS9IwRLu",
   "metadata": {
    "id": "mGu9GS9IwRLu"
   },
   "source": [
    "The web tool at the link https://datacenter.stix.i4ds.net/view/ancillary provides more detailed information of STIX pointing"
   ]
  },
  {
   "cell_type": "markdown",
   "id": "V0tqhiXwwPrL",
   "metadata": {
    "id": "V0tqhiXwwPrL"
   },
   "source": []
  },
  {
   "cell_type": "code",
   "execution_count": null,
   "id": "EHvuI0dVm6cH",
   "metadata": {
    "colab": {
     "base_uri": "https://localhost:8080/"
    },
    "id": "EHvuI0dVm6cH",
    "outputId": "4edd0ea8-e8f2-4542-c24f-d48631994b5a"
   },
   "outputs": [],
   "source": [
    "#Let's plot the data\n",
    "pprint(fov.data)"
   ]
  },
  {
   "cell_type": "code",
   "execution_count": null,
   "id": "-gKG2DLnwixG",
   "metadata": {
    "id": "-gKG2DLnwixG"
   },
   "outputs": [],
   "source": []
  },
  {
   "cell_type": "markdown",
   "id": "aZaQioVOJQt-",
   "metadata": {
    "id": "aZaQioVOJQt-"
   },
   "source": [
    "# Solar flare light time difference and viewing angle calculator"
   ]
  },
  {
   "cell_type": "markdown",
   "id": "pxh9iOp5wwx1",
   "metadata": {
    "id": "pxh9iOp5wwx1"
   },
   "source": [
    "This tool allows calculation of the light time difference between a flare and observers at earth or solar orbiter, as well as the viewing angles. "
   ]
  },
  {
   "cell_type": "code",
   "execution_count": null,
   "id": "ejeIOKgxJRMZ",
   "metadata": {
    "colab": {
     "base_uri": "https://localhost:8080/"
    },
    "id": "ejeIOKgxJRMZ",
    "outputId": "a884e20d-1da6-48c4-c7f3-1fa7f7155122"
   },
   "outputs": [],
   "source": [
    "flare_aux=jreq.request_flare_light_time_and_angle(utc='2022-03-01T00:00:00', flare_x=100, flare_y=1000, observer='stix')\n",
    "\n",
    "\n",
    "pprint(flare_aux)"
   ]
  },
  {
   "cell_type": "markdown",
   "id": "scY8hcbWxcWP",
   "metadata": {
    "id": "scY8hcbWxcWP"
   },
   "source": [
    "where:        \n",
    "\n",
    "* utc -    observation time\n",
    "* flare_x -  flare helio-projective longitude in units of arcsec as seen by the observer \n",
    "* flare_y -  flare helio-projective latitude in units of arcsec \n",
    "* observer: It can be either \"earth\" or \"stix\" . The default value is \"earth\". \n",
    "\n",
    "A data object is returnned\n"
   ]
  },
  {
   "cell_type": "markdown",
   "id": "0wR6uKOOwmIq",
   "metadata": {
    "id": "0wR6uKOOwmIq"
   },
   "source": [
    "The tool is available at the link\n",
    "https://datacenter.stix.i4ds.net/view/ancillary\n"
   ]
  },
  {
   "cell_type": "markdown",
   "id": "ethical-content",
   "metadata": {
    "id": "ethical-content"
   },
   "source": [
    "# Access and preview science data"
   ]
  },
  {
   "cell_type": "markdown",
   "id": "contrary-decrease",
   "metadata": {
    "id": "contrary-decrease"
   },
   "source": [
    "## level-1 science data\n"
   ]
  },
  {
   "cell_type": "markdown",
   "id": "zs0KccO0o59a",
   "metadata": {
    "id": "zs0KccO0o59a"
   },
   "source": [
    "Let's download a level-1 science data file from STIX data center"
   ]
  },
  {
   "cell_type": "code",
   "execution_count": null,
   "id": "partial-conference",
   "metadata": {
    "colab": {
     "base_uri": "https://localhost:8080/"
    },
    "id": "partial-conference",
    "outputId": "b0961666-90d1-499a-9544-f77f8b64a892"
   },
   "outputs": [],
   "source": [
    "l1_obj=ScienceL1.from_sdc(request_id=2208270251)"
   ]
  },
  {
   "cell_type": "markdown",
   "id": "UkQzL4sfpEXz",
   "metadata": {
    "id": "UkQzL4sfpEXz"
   },
   "source": [
    "Here **2112240046** is the requests ID (also called unique id), which can  can be found on the science data web page https://datacenter.stix.i4ds.net/view/list/bsd.   \n",
    "**ltc** is an optional argument. Light time correction will be performed if ltc = True. \n",
    "**l1_obj** is a data object "
   ]
  },
  {
   "cell_type": "markdown",
   "id": "LUXvY_gVpswg",
   "metadata": {
    "id": "LUXvY_gVpswg"
   },
   "source": [
    "Access the FITS Header Data Unit List attached to the data object:"
   ]
  },
  {
   "cell_type": "code",
   "execution_count": null,
   "id": "interpreted-coordinate",
   "metadata": {
    "colab": {
     "base_uri": "https://localhost:8080/"
    },
    "id": "interpreted-coordinate",
    "outputId": "478ebe51-638d-4010-db58-ad72348323bc",
    "scrolled": true
   },
   "outputs": [],
   "source": [
    "hdul=l1_obj.hdul\n",
    "hdul.info()"
   ]
  },
  {
   "cell_type": "markdown",
   "id": "9bafJqiEqCTx",
   "metadata": {
    "id": "9bafJqiEqCTx"
   },
   "source": [
    "Note that FITS hdul is only one of the data attributes.  "
   ]
  },
  {
   "cell_type": "markdown",
   "id": "1glWo6ospzAm",
   "metadata": {
    "id": "1glWo6ospzAm"
   },
   "source": [
    "Let's print the hdul header"
   ]
  },
  {
   "cell_type": "code",
   "execution_count": null,
   "id": "7Mx5Z-e-ji33",
   "metadata": {
    "colab": {
     "base_uri": "https://localhost:8080/"
    },
    "id": "7Mx5Z-e-ji33",
    "outputId": "f434da04-a18e-4c00-95e9-28cea0076223"
   },
   "outputs": [],
   "source": [
    "hdul['PRIMARY'].header"
   ]
  },
  {
   "cell_type": "markdown",
   "id": "cU7n2_3trJry",
   "metadata": {
    "id": "cU7n2_3trJry"
   },
   "source": [
    "Preview science data "
   ]
  },
  {
   "cell_type": "code",
   "execution_count": null,
   "id": "swiss-binding",
   "metadata": {
    "colab": {
     "base_uri": "https://localhost:8080/",
     "height": 940
    },
    "id": "swiss-binding",
    "outputId": "23935fbc-edd3-45af-a364-2c44e863e1e6"
   },
   "outputs": [],
   "source": [
    "l1_obj.peek('spg,lc, spec,tbin, qllc')\n"
   ]
  },
  {
   "cell_type": "markdown",
   "id": "8gxTnuCBrZCa",
   "metadata": {
    "id": "8gxTnuCBrZCa"
   },
   "source": []
  },
  {
   "cell_type": "markdown",
   "id": "1Shc49-tyFsK",
   "metadata": {
    "id": "1Shc49-tyFsK"
   },
   "source": [
    "Peform dead time correction to the data"
   ]
  },
  {
   "cell_type": "code",
   "execution_count": null,
   "id": "eI_iQHE3s6zi",
   "metadata": {
    "id": "eI_iQHE3s6zi"
   },
   "outputs": [],
   "source": [
    "corrected_data=l1_obj.correct_dead_time()"
   ]
  },
  {
   "cell_type": "markdown",
   "id": "qFbHUob0yIYu",
   "metadata": {
    "id": "qFbHUob0yIYu"
   },
   "source": [
    "Print the array dimensions"
   ]
  },
  {
   "cell_type": "code",
   "execution_count": null,
   "id": "WpAKFeMRs9d8",
   "metadata": {
    "colab": {
     "base_uri": "https://localhost:8080/"
    },
    "id": "WpAKFeMRs9d8",
    "outputId": "1121c603-c287-4ca9-ce0e-39abd166e6b5"
   },
   "outputs": [],
   "source": [
    "corrected_data.keys()\n",
    "for key, value in corrected_data.items():\n",
    "    print(key, value.shape)"
   ]
  },
  {
   "cell_type": "markdown",
   "id": "Zmq4S_8pyN4B",
   "metadata": {
    "id": "Zmq4S_8pyN4B"
   },
   "source": [
    "Plot the live ratios of detectors: "
   ]
  },
  {
   "cell_type": "code",
   "execution_count": null,
   "id": "AI8Rcm72tJmd",
   "metadata": {
    "colab": {
     "base_uri": "https://localhost:8080/",
     "height": 297
    },
    "id": "AI8Rcm72tJmd",
    "outputId": "007cf779-c2bb-4bfb-e5c4-153f48082db9"
   },
   "outputs": [],
   "source": [
    "plt.figure()\n",
    "plt.plot(l1_obj.time, corrected_data['live_ratio'])\n",
    "plt.xlabel('Time (s)')\n",
    "plt.ylabel('Live ratio of detector groups')"
   ]
  },
  {
   "cell_type": "markdown",
   "id": "ieDlyIhcyV3b",
   "metadata": {
    "id": "ieDlyIhcyV3b"
   },
   "source": [
    "Plot pixel and energy integerated corrected count rate:"
   ]
  },
  {
   "cell_type": "code",
   "execution_count": null,
   "id": "AcsrZIhjtKTM",
   "metadata": {
    "colab": {
     "base_uri": "https://localhost:8080/",
     "height": 857
    },
    "id": "AcsrZIhjtKTM",
    "outputId": "3b35acda-c833-4dc6-cd58-e034afc92476"
   },
   "outputs": [],
   "source": [
    "plt.figure()\n",
    "plt.plot(l1_obj.time, np.sum(corrected_data['corrected_rates'], axis=(2,3) ))\n"
   ]
  },
  {
   "cell_type": "markdown",
   "id": "N5RLLFhfyc7H",
   "metadata": {
    "id": "N5RLLFhfyc7H"
   },
   "source": [
    "Visualize counts with the module DetectorView"
   ]
  },
  {
   "cell_type": "code",
   "execution_count": null,
   "id": "8IqxG6p6ZLdx",
   "metadata": {
    "colab": {
     "base_uri": "https://localhost:8080/",
     "height": 1000
    },
    "id": "8IqxG6p6ZLdx",
    "outputId": "e50cc2a7-d607-415f-a991-970a6da5bc8f"
   },
   "outputs": [],
   "source": [
    "pixel_counts = l1_obj.pixel_total_counts\n",
    "det_view = dv.DetectorView(pixel_counts)\n",
    "det_view.display()"
   ]
  },
  {
   "cell_type": "code",
   "execution_count": null,
   "id": "g7cu8Z-hpUXw",
   "metadata": {
    "colab": {
     "base_uri": "https://localhost:8080/"
    },
    "id": "g7cu8Z-hpUXw",
    "outputId": "8a9d55ee-f8cb-4391-c369-44d5bba2f91d"
   },
   "outputs": [],
   "source": [
    "l1_obj.ebins_high"
   ]
  },
  {
   "cell_type": "code",
   "execution_count": null,
   "id": "_omn9ALCodFc",
   "metadata": {
    "id": "_omn9ALCodFc"
   },
   "outputs": [],
   "source": [
    "#print(l1_obj.url)\n",
    "#link to science browser "
   ]
  },
  {
   "cell_type": "markdown",
   "id": "acknowledged-correlation",
   "metadata": {
    "id": "acknowledged-correlation"
   },
   "source": [
    "## Download and plot spectrograms"
   ]
  },
  {
   "cell_type": "markdown",
   "id": "zMaImK_Jy7Fb",
   "metadata": {
    "id": "zMaImK_Jy7Fb"
   },
   "source": [
    "Let's fetch a spectrogram data file from STIX data center"
   ]
  },
  {
   "cell_type": "code",
   "execution_count": null,
   "id": "clean-electron",
   "metadata": {
    "colab": {
     "base_uri": "https://localhost:8080/"
    },
    "id": "clean-electron",
    "outputId": "8e3f0c71-60f0-40ab-a418-b6ba5a4301c6"
   },
   "outputs": [],
   "source": [
    "request_id=\t2210223333\n",
    "l4d=Spectrogram.from_sdc(request_id=request_id)\n"
   ]
  },
  {
   "cell_type": "code",
   "execution_count": null,
   "id": "prescribed-andrews",
   "metadata": {
    "colab": {
     "base_uri": "https://localhost:8080/",
     "height": 645
    },
    "id": "prescribed-andrews",
    "outputId": "b81aa429-4340-4044-eba3-64342884115c"
   },
   "outputs": [],
   "source": [
    "l4d.hdul.info()\n",
    "l4d.peek()"
   ]
  },
  {
   "cell_type": "markdown",
   "id": "Tfm1-FWDQtBe",
   "metadata": {
    "id": "Tfm1-FWDQtBe"
   },
   "source": [
    "## Crop or combine spectrograms\n",
    "\n",
    "To select a shorter time interval from a long-duration spectrogram, or to combine two spectrograms into a single FITS file"
   ]
  },
  {
   "cell_type": "code",
   "execution_count": null,
   "id": "M1wLwdsvQoMP",
   "metadata": {
    "colab": {
     "base_uri": "https://localhost:8080/",
     "height": 299
    },
    "id": "M1wLwdsvQoMP",
    "outputId": "1ccf0e10-1dce-4a22-96e1-a63afd0481e5"
   },
   "outputs": [],
   "source": [
    "plt.plot(l4d.datetime, np.sum(l4d.counts[:,4:10],axis=1))\n",
    "plt.title(l4d.T0_utc)"
   ]
  },
  {
   "cell_type": "code",
   "execution_count": null,
   "id": "aIWv6NV7TZVd",
   "metadata": {
    "id": "aIWv6NV7TZVd"
   },
   "outputs": [],
   "source": [
    "tstart = '2022-10-22T23:06:00'\n",
    "tend = '2022-10-22T23:15:00'"
   ]
  },
  {
   "cell_type": "code",
   "execution_count": null,
   "id": "XuT2zjxOTqKl",
   "metadata": {
    "id": "XuT2zjxOTqKl"
   },
   "outputs": [],
   "source": [
    "cropped_file = spec_fits_crop(l4d.filename, tstart, tend)"
   ]
  },
  {
   "cell_type": "markdown",
   "id": "ePfyIDxyT176",
   "metadata": {
    "id": "ePfyIDxyT176"
   },
   "source": [
    "A new file containing the cropped spectrogram has been created. It can be accessed at its location:"
   ]
  },
  {
   "cell_type": "code",
   "execution_count": null,
   "id": "5EK4lnJiT9jz",
   "metadata": {
    "id": "5EK4lnJiT9jz"
   },
   "outputs": [],
   "source": [
    "cropped_file"
   ]
  },
  {
   "cell_type": "code",
   "execution_count": null,
   "id": "xAWu_8v3WACs",
   "metadata": {
    "colab": {
     "base_uri": "https://localhost:8080/",
     "height": 318
    },
    "id": "xAWu_8v3WACs",
    "outputId": "8a2f9c3e-f68d-468a-922c-0445d174a423"
   },
   "outputs": [],
   "source": [
    "cropped_spec = Spectrogram(cropped_file, None)\n",
    "plt.plot(cropped_spec.datetime, np.sum(cropped_spec.counts[:,4:10],axis=1))\n",
    "plt.title(cropped_spec.T0_utc)"
   ]
  },
  {
   "cell_type": "markdown",
   "id": "VIbk8iUXUAjq",
   "metadata": {
    "id": "VIbk8iUXUAjq"
   },
   "source": [
    "Similarly, two spectrogram files can be combined, and simultaneously cropped to a particular time range if desired."
   ]
  },
  {
   "cell_type": "code",
   "execution_count": null,
   "id": "4wAabjYOT_mZ",
   "metadata": {
    "colab": {
     "base_uri": "https://localhost:8080/"
    },
    "id": "4wAabjYOT_mZ",
    "outputId": "58b1fc7a-048f-4915-ba75-53b70963e4e0"
   },
   "outputs": [],
   "source": [
    "spec_res=fq.query('2022-04-19T20:00:00', '2022-04-19T23:00:00', product_type='xray-spec')\n",
    "file_locations = spec_res.fetch()"
   ]
  },
  {
   "cell_type": "code",
   "execution_count": null,
   "id": "mOkVgZnOUabg",
   "metadata": {
    "colab": {
     "base_uri": "https://localhost:8080/"
    },
    "id": "mOkVgZnOUabg",
    "outputId": "5057b586-64ea-41b5-a68b-ea3f08a563d2"
   },
   "outputs": [],
   "source": [
    "tstart='2022-04-19T20:05:00'\n",
    "combined_file = spec_fits_concatenate(file_locations[0], file_locations[1], tstart=tstart)"
   ]
  },
  {
   "cell_type": "markdown",
   "id": "f-b2hNlpVw0K",
   "metadata": {
    "id": "f-b2hNlpVw0K"
   },
   "source": [
    "A new file containing the combined spectrogram has been created. It can be accessed at its location:"
   ]
  },
  {
   "cell_type": "code",
   "execution_count": null,
   "id": "BXYSNMp2VwMg",
   "metadata": {
    "colab": {
     "base_uri": "https://localhost:8080/",
     "height": 55
    },
    "id": "BXYSNMp2VwMg",
    "outputId": "70b7ace2-f491-4a0b-e62f-cb1fe8d9e6c3"
   },
   "outputs": [],
   "source": [
    "combined_file"
   ]
  },
  {
   "cell_type": "code",
   "execution_count": null,
   "id": "GqPsIaSoWON8",
   "metadata": {
    "id": "GqPsIaSoWON8"
   },
   "outputs": [],
   "source": [
    "with fits.open(combined_file) as f:\n",
    "    primary, _, data, _ = f\n",
    "    spectimes = fits_time_to_datetime(primary.header, data.data)\n",
    "    plotdata = np.sum(data.data.counts[:,4:10],axis=1)"
   ]
  },
  {
   "cell_type": "code",
   "execution_count": null,
   "id": "4CN6ey-xYl_g",
   "metadata": {
    "colab": {
     "base_uri": "https://localhost:8080/",
     "height": 299
    },
    "id": "4CN6ey-xYl_g",
    "outputId": "8a4c11a4-a7a1-49b1-ba59-77c51d97d269"
   },
   "outputs": [],
   "source": [
    "import matplotlib.dates as mdates\n",
    "plt.gca().xaxis.set_major_formatter(mdates.DateFormatter('%H:%M:%S'))\n",
    "plt.gca().xaxis.set_major_locator(mdates.HourLocator(interval=1))\n",
    "plt.plot(spectimes.datetime,plotdata)\n",
    "plt.gcf().autofmt_xdate()\n",
    "plt.title(spectimes[0].isot)"
   ]
  },
  {
   "cell_type": "code",
   "execution_count": null,
   "id": "27b8b2bf",
   "metadata": {},
   "outputs": [],
   "source": [
    "spec = cspec.Spectrogram.from_sdc('2022-03-23T04:14:00', '2022-03-23T04:41:00')"
   ]
  },
  {
   "cell_type": "code",
   "execution_count": null,
   "id": "64f28040",
   "metadata": {},
   "outputs": [],
   "source": [
    "spec.peek()"
   ]
  },
  {
   "cell_type": "markdown",
   "id": "jewish-gilbert",
   "metadata": {
    "id": "jewish-gilbert"
   },
   "source": [
    "# Search and download FITS files from STIX data center"
   ]
  },
  {
   "cell_type": "markdown",
   "id": "giX_w8B0zExq",
   "metadata": {
    "id": "giX_w8B0zExq"
   },
   "source": [
    "Set download location"
   ]
  },
  {
   "cell_type": "code",
   "execution_count": null,
   "id": "primary-performance",
   "metadata": {
    "id": "primary-performance",
    "scrolled": true
   },
   "outputs": [],
   "source": [
    "fq.chdir('./downloads')\n",
    "\n"
   ]
  },
  {
   "cell_type": "code",
   "execution_count": null,
   "id": "suCVNz9dzLM6",
   "metadata": {
    "id": "suCVNz9dzLM6"
   },
   "outputs": [],
   "source": [
    "res=fq.query('2022-02-10T05:00:00', '2022-02-18T07:00:00', product_type='xray-cpd',filter='BKG', level='L1A')\n"
   ]
  },
  {
   "cell_type": "markdown",
   "id": "3nAg3-jYzM1R",
   "metadata": {
    "id": "3nAg3-jYzM1R"
   },
   "source": [
    "Arguments: \n",
    "* **product_type**   options:  \n",
    "\n",
    "\n",
    "| option        \t| Data type             \t|\n",
    "|--------------\t|----------------------\t|\n",
    "| any      \t| Any type (default value)          \t|\n",
    "| science      \t| Any science          \t|\n",
    "| quicklook    \t| Any quick-look       \t|\n",
    "| housekeeping \t| Housekeeping         \t|\n",
    "| xray-rpd     \t| Raw pixel data       \t|\n",
    "| xray-cpd     \t| Pixel data           \t|\n",
    "| xray-scpd    \t| Summed pixel data    \t|\n",
    "| xray-vis     \t| Visibility           \t|\n",
    "| xray-spec    \t| Spectrogram          \t|\n",
    "| ql-lc        \t| QL light curve       \t|\n",
    "| ql-var       \t| QL variance          \t|\n",
    "| ql-bkg       \t| QL background        \t|\n",
    "| ql-spec      \t| QL spectra           \t|\n",
    "| ql-ffl       \t| QL flare location    \t|\n",
    "| ql-cal       \t| Calibration spectrum \t|\n",
    "| aspect       \t| Bulk aspect          \t|\n",
    "| auxiliary    \t| Auxiliary data       \t|\n",
    "\n",
    "\n",
    "* filter: optional. \n",
    "    - Use to filter FITS files. Only science data with descriptions containing the specified string will be selected. \n",
    "    set it to None if you  don't want to filter the results\n",
    "\n",
    "\n",
    "\n",
    "An instance of FitQueryResult  is returned. \n",
    "\n"
   ]
  },
  {
   "cell_type": "markdown",
   "id": "cY32tRCbmqHF",
   "metadata": {
    "id": "cY32tRCbmqHF"
   },
   "source": [
    "Convert the query result to pandas dataframe: \n"
   ]
  },
  {
   "cell_type": "code",
   "execution_count": null,
   "id": "crazy-longitude",
   "metadata": {
    "colab": {
     "base_uri": "https://localhost:8080/",
     "height": 779
    },
    "id": "crazy-longitude",
    "outputId": "2553671d-1640-412e-99ce-e60efc8b49b1"
   },
   "outputs": [],
   "source": [
    "df=res.to_pandas()\n",
    "df\n"
   ]
  },
  {
   "cell_type": "markdown",
   "id": "4MLTvZ940cnj",
   "metadata": {
    "id": "4MLTvZ940cnj"
   },
   "source": [
    "One could download all the FITS file from stix data center by using the function \"fetch\": "
   ]
  },
  {
   "cell_type": "code",
   "execution_count": null,
   "id": "educational-recruitment",
   "metadata": {
    "colab": {
     "base_uri": "https://localhost:8080/"
    },
    "id": "educational-recruitment",
    "outputId": "3a776931-439d-4299-d88b-c12c2165f30b"
   },
   "outputs": [],
   "source": [
    "fits_list=res.fetch()"
   ]
  },
  {
   "cell_type": "markdown",
   "id": "4bOaldb90vOZ",
   "metadata": {
    "id": "4bOaldb90vOZ"
   },
   "source": [
    "Note that if a FITS file is found on the local disk, it will not be downloaded again from STIX data center. "
   ]
  },
  {
   "cell_type": "markdown",
   "id": "7HkCPZmL0r7E",
   "metadata": {
    "id": "7HkCPZmL0r7E"
   },
   "source": [
    "Open all the download FITS file: "
   ]
  },
  {
   "cell_type": "code",
   "execution_count": null,
   "id": "declared-personal",
   "metadata": {
    "id": "declared-personal"
   },
   "outputs": [],
   "source": [
    "hduls=res.open_fits()\n"
   ]
  },
  {
   "cell_type": "markdown",
   "id": "lOziHF4z1H9V",
   "metadata": {
    "id": "lOziHF4z1H9V"
   },
   "source": [
    "hduls is a list of hdu objects"
   ]
  },
  {
   "cell_type": "markdown",
   "id": "Q-vv7lSd1MWD",
   "metadata": {
    "id": "Q-vv7lSd1MWD"
   },
   "source": [
    "Print file info"
   ]
  },
  {
   "cell_type": "code",
   "execution_count": null,
   "id": "capable-wagner",
   "metadata": {
    "colab": {
     "base_uri": "https://localhost:8080/"
    },
    "id": "capable-wagner",
    "outputId": "4ea0e5e1-0abf-4928-c31e-c28facb2245e"
   },
   "outputs": [],
   "source": [
    "res.fits_info()"
   ]
  },
  {
   "cell_type": "markdown",
   "id": "serious-certification",
   "metadata": {
    "id": "serious-certification"
   },
   "source": [
    "# Download flare list from STIX data center"
   ]
  },
  {
   "cell_type": "code",
   "execution_count": null,
   "id": "frank-possible",
   "metadata": {
    "colab": {
     "base_uri": "https://localhost:8080/"
    },
    "id": "frank-possible",
    "outputId": "ef4b8a9a-eedf-4509-ce4c-b280a635f6e7"
   },
   "outputs": [],
   "source": [
    "flares=jreq.fetch_flare_list('2021-04-08T00:00:00', '2021-04-12T00:00:00', sort='goes')\n",
    "pprint(flares)"
   ]
  },
  {
   "cell_type": "markdown",
   "id": "ljfzG8a41Vjg",
   "metadata": {
    "id": "ljfzG8a41Vjg"
   },
   "source": [
    "\n",
    "Parameters:\n",
    "\n",
    "* start_UTC: str\n",
    "  - start time\n",
    "* end_UTC: str\n",
    "  - end time\n",
    "\n",
    "* sorting key: str, options:\n",
    " \n",
    "  - LC0, flare peak counts of the 4 - 10 keV light curve \n",
    "\n",
    "  - LC1, flare peak counts of 10 - 10 keV light curves\n",
    "  - LC2, similar to above, but of the third energy band\n",
    "  - LC3,  similar to above, but of the fourth energy band\n",
    "  - LC4,  similar to above, but of the fifth  energy band\n",
    "  - time,  flare observation time\n",
    "  - goes, goes class \n",
    "\n",
    "The number of flares can be downloaded each time is limited to 5000."
   ]
  },
  {
   "cell_type": "markdown",
   "id": "TdirjLNc18zW",
   "metadata": {
    "id": "TdirjLNc18zW"
   },
   "source": [
    "Display the list in  table view:\n"
   ]
  },
  {
   "cell_type": "code",
   "execution_count": null,
   "id": "YFB-8qp3hlnl",
   "metadata": {
    "colab": {
     "base_uri": "https://localhost:8080/",
     "height": 410
    },
    "id": "YFB-8qp3hlnl",
    "outputId": "f2097328-9e4f-436a-9cfd-b6ce355e4514"
   },
   "outputs": [],
   "source": [
    "df=pd.DataFrame(flares)\n",
    "df"
   ]
  },
  {
   "cell_type": "markdown",
   "id": "dc771bb1",
   "metadata": {},
   "source": [
    "# Find science data requests"
   ]
  },
  {
   "cell_type": "code",
   "execution_count": null,
   "id": "852bbb3c",
   "metadata": {},
   "outputs": [],
   "source": [
    "sci_list=jreq.query_science('2021-10-01T00:00:00', '2021-10-02T00:00:00', request_type='all')"
   ]
  },
  {
   "cell_type": "markdown",
   "id": "b1ee3f4b",
   "metadata": {},
   "source": [
    "request_type, optional, if it is given, it will only return the specify the science request type\n",
    "request_type options: \n",
    "* 'xray-cpd': pixel data\n",
    "* 'xray-scpd': compression level-2 pixel data\n",
    "* 'xray-spec': spectrograms\n",
    "* 'xray-vis': visibilities \n",
    "* 'aspect': aspect request\n",
    "* 'all':  any types\n"
   ]
  },
  {
   "cell_type": "code",
   "execution_count": null,
   "id": "8b761f4e",
   "metadata": {},
   "outputs": [],
   "source": [
    "df=pd.DataFrame(sci_list)\n",
    "df"
   ]
  },
  {
   "cell_type": "code",
   "execution_count": null,
   "id": "36bee21d",
   "metadata": {},
   "outputs": [],
   "source": []
  }
 ],
 "metadata": {
  "colab": {
   "collapsed_sections": [],
   "provenance": []
  },
  "kernelspec": {
   "display_name": "Python 3 (ipykernel)",
   "language": "python",
   "name": "python3"
  },
  "language_info": {
   "codemirror_mode": {
    "name": "ipython",
    "version": 3
   },
   "file_extension": ".py",
   "mimetype": "text/x-python",
   "name": "python",
   "nbconvert_exporter": "python",
   "pygments_lexer": "ipython3",
   "version": "3.10.6"
  }
 },
 "nbformat": 4,
 "nbformat_minor": 5
}
